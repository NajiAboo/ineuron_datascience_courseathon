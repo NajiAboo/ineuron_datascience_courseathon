{
 "cells": [
  {
   "cell_type": "markdown",
   "id": "8f8f8005",
   "metadata": {},
   "source": [
    "# Write a Python program to convert kilometers to miles?"
   ]
  },
  {
   "cell_type": "code",
   "execution_count": 6,
   "id": "e832f5a7",
   "metadata": {},
   "outputs": [
    {
     "name": "stdout",
     "output_type": "stream",
     "text": [
      "Enter Kilometer 10\n",
      "Miles : 6.21371\n"
     ]
    }
   ],
   "source": [
    "cfactor = 0.621371\n",
    "def convert_km_miles(kilometer):\n",
    "    miles = kilometer * cfactor\n",
    "    return miles\n",
    "        \n",
    "\n",
    "\n",
    "kilometers = float(input(\"Enter Kilometer \"))\n",
    "miles = convert_km_miles(kilometer=kilometers)\n",
    "print(f\"Miles : {miles}\")"
   ]
  },
  {
   "cell_type": "markdown",
   "id": "fb443284",
   "metadata": {},
   "source": [
    "# Write a Python program to convert Celsius to Fahrenheit?"
   ]
  },
  {
   "cell_type": "code",
   "execution_count": 10,
   "id": "5090138c",
   "metadata": {},
   "outputs": [
    {
     "name": "stdout",
     "output_type": "stream",
     "text": [
      "Please enter celsium: 1\n",
      "33.8\n"
     ]
    }
   ],
   "source": [
    "def celsiusm_fahrenheit(celsius) :\n",
    "    fahrenheit = (celsius * 1.8) + 32\n",
    "    return fahrenheit\n",
    "    \n",
    "    \n",
    "celsius = float(input(\"Please enter celsium: \"))\n",
    "\n",
    " \n",
    "fahrenheit = celsiusm_fahrenheit(celsius)\n",
    "\n",
    "print(fahrenheit)\n"
   ]
  },
  {
   "cell_type": "markdown",
   "id": "c6ff455b",
   "metadata": {},
   "source": [
    "# Write a Python program to display calendar?"
   ]
  },
  {
   "cell_type": "code",
   "execution_count": 13,
   "id": "5939b2e5",
   "metadata": {},
   "outputs": [
    {
     "name": "stdout",
     "output_type": "stream",
     "text": [
      "   February 2022\n",
      "Mo Tu We Th Fr Sa Su\n",
      "    1  2  3  4  5  6\n",
      " 7  8  9 10 11 12 13\n",
      "14 15 16 17 18 19 20\n",
      "21 22 23 24 25 26 27\n",
      "28\n",
      "\n"
     ]
    }
   ],
   "source": [
    "import calendar\n",
    "from datetime import datetime\n",
    "\n",
    "year = datetime.now().year\n",
    "month = datetime.now().month\n",
    "\n",
    "print(calendar.month(year, month))"
   ]
  },
  {
   "cell_type": "markdown",
   "id": "fa84b4c0",
   "metadata": {},
   "source": [
    "# Write a Python program to solve quadratic equation?"
   ]
  },
  {
   "cell_type": "code",
   "execution_count": 18,
   "id": "221e6d16",
   "metadata": {},
   "outputs": [
    {
     "name": "stdout",
     "output_type": "stream",
     "text": [
      "(-18.366600265340757+0j)\n",
      "(-1.6333997346592444+0j)\n"
     ]
    }
   ],
   "source": [
    "import cmath\n",
    "\n",
    "a = 1\n",
    "b = 20\n",
    "c = 30\n",
    "\n",
    "\n",
    "d = (b**2) - (4*a*c)\n",
    "#print(d)\n",
    "\n",
    "result1 = (-b-cmath.sqrt(d))/(2*a)\n",
    "result2 = (-b+cmath.sqrt(d))/(2*a)\n",
    "\n",
    "print(result1)\n",
    "print(result2)"
   ]
  },
  {
   "cell_type": "markdown",
   "id": "f80ab99c",
   "metadata": {},
   "source": [
    "# Write a Python program to swap two variables without temp variable?"
   ]
  },
  {
   "cell_type": "code",
   "execution_count": 23,
   "id": "723bfd4a",
   "metadata": {},
   "outputs": [
    {
     "name": "stdout",
     "output_type": "stream",
     "text": [
      "Enter first value2\n",
      "Enter second value3\n",
      "After swap a : 3, b: 2\n"
     ]
    }
   ],
   "source": [
    "a = int(input(\"Enter first value\"))\n",
    "b = int(input(\"Enter second value\"))\n",
    "\n",
    "a = a + b \n",
    "b = a - b\n",
    "a = a - b\n",
    "\n",
    "print(f\"After swap a : {a}, b: {b}\")"
   ]
  },
  {
   "cell_type": "code",
   "execution_count": null,
   "id": "51897283",
   "metadata": {},
   "outputs": [],
   "source": []
  }
 ],
 "metadata": {
  "kernelspec": {
   "display_name": "Python 3 (ipykernel)",
   "language": "python",
   "name": "python3"
  },
  "language_info": {
   "codemirror_mode": {
    "name": "ipython",
    "version": 3
   },
   "file_extension": ".py",
   "mimetype": "text/x-python",
   "name": "python",
   "nbconvert_exporter": "python",
   "pygments_lexer": "ipython3",
   "version": "3.9.7"
  }
 },
 "nbformat": 4,
 "nbformat_minor": 5
}
