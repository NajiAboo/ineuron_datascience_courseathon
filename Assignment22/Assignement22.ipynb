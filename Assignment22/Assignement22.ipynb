{
 "cells": [
  {
   "cell_type": "markdown",
   "id": "45be53f5",
   "metadata": {},
   "source": [
    "# 1. What is the result of the code, and explain?\n",
    "\n"
   ]
  },
  {
   "cell_type": "code",
   "execution_count": 1,
   "id": "cefb4182",
   "metadata": {},
   "outputs": [
    {
     "name": "stdout",
     "output_type": "stream",
     "text": [
      "iNeuron\n"
     ]
    }
   ],
   "source": [
    "X = 'iNeuron'\n",
    "def func():\n",
    "    print(X)\n",
    "func()"
   ]
  },
  {
   "cell_type": "code",
   "execution_count": 2,
   "id": "dc94efa7",
   "metadata": {},
   "outputs": [],
   "source": [
    "# X is a glabal variable. so ti will be accessed from  a function"
   ]
  },
  {
   "cell_type": "markdown",
   "id": "850ad1c1",
   "metadata": {},
   "source": [
    "# 2. What is the result of the code, and explain?\n"
   ]
  },
  {
   "cell_type": "code",
   "execution_count": 3,
   "id": "3e8a4579",
   "metadata": {},
   "outputs": [
    {
     "name": "stdout",
     "output_type": "stream",
     "text": [
      "iNeuron\n"
     ]
    }
   ],
   "source": [
    "X = 'iNeuron'\n",
    "def func():\n",
    "    X = 'NI!'\n",
    "func()\n",
    "print(X)\n"
   ]
  },
  {
   "cell_type": "code",
   "execution_count": 4,
   "id": "5d341d05",
   "metadata": {},
   "outputs": [],
   "source": [
    "#The global variables are access in side the functions in python. \n",
    "# X inside func is considered a local to the function\n",
    "# Since x is golbal variable we are able to print it out side of the function solution = 'iNeuron'"
   ]
  },
  {
   "cell_type": "markdown",
   "id": "95af8e45",
   "metadata": {},
   "source": [
    "# 3. What does this code print, and why?\n"
   ]
  },
  {
   "cell_type": "code",
   "execution_count": 5,
   "id": "41245a26",
   "metadata": {},
   "outputs": [
    {
     "name": "stdout",
     "output_type": "stream",
     "text": [
      "NI\n",
      "iNeuron\n"
     ]
    }
   ],
   "source": [
    "X = 'iNeuron'\n",
    "def func():\n",
    "    X = 'NI'\n",
    "    print(X)\n",
    "func()\n",
    "print(X)"
   ]
  },
  {
   "cell_type": "code",
   "execution_count": 6,
   "id": "71dc626b",
   "metadata": {},
   "outputs": [],
   "source": [
    "# X inside fun is a local variable and only accessible inside it , it will not cause the global X"
   ]
  },
  {
   "cell_type": "markdown",
   "id": "0b5f7b4a",
   "metadata": {},
   "source": [
    "# What output does this code produce? Why?\n",
    "\n"
   ]
  },
  {
   "cell_type": "code",
   "execution_count": 7,
   "id": "dbe95a88",
   "metadata": {},
   "outputs": [
    {
     "name": "stdout",
     "output_type": "stream",
     "text": [
      "NI\n"
     ]
    }
   ],
   "source": [
    "X = 'iNeuron'\n",
    "def func():\n",
    "    global X\n",
    "    X = 'NI'\n",
    "func()\n",
    "print(X)"
   ]
  },
  {
   "cell_type": "code",
   "execution_count": 8,
   "id": "d814f13c",
   "metadata": {},
   "outputs": [],
   "source": [
    "# Inside the X, we are usign same global X. So its chaning by calling func() method"
   ]
  },
  {
   "cell_type": "markdown",
   "id": "0448457a",
   "metadata": {},
   "source": [
    "# 5. What about this code—what’s the output, and why?\n"
   ]
  },
  {
   "cell_type": "code",
   "execution_count": 11,
   "id": "07207417",
   "metadata": {},
   "outputs": [
    {
     "name": "stdout",
     "output_type": "stream",
     "text": [
      "iNeuron\n"
     ]
    },
    {
     "data": {
      "text/plain": [
       "'iNeuron'"
      ]
     },
     "execution_count": 11,
     "metadata": {},
     "output_type": "execute_result"
    }
   ],
   "source": [
    "X = 'iNeuron'\n",
    "def func():\n",
    "    X = 'NI'\n",
    "def nested():\n",
    "    print(X)\n",
    "    \n",
    "nested()\n",
    "func()\n",
    "X\n"
   ]
  },
  {
   "cell_type": "code",
   "execution_count": 12,
   "id": "a741168c",
   "metadata": {},
   "outputs": [],
   "source": [
    "# nested() used global X and prints it. X inside func() is local tothat function and any change will not effect the \n",
    "#globax X"
   ]
  },
  {
   "cell_type": "markdown",
   "id": "c646e0ad",
   "metadata": {},
   "source": [
    "# 6. How about this code: what is its output in Python 3, and explain?\n",
    "\n"
   ]
  },
  {
   "cell_type": "code",
   "execution_count": 16,
   "id": "926e6b42",
   "metadata": {},
   "outputs": [
    {
     "name": "stdout",
     "output_type": "stream",
     "text": [
      "spam\n"
     ]
    }
   ],
   "source": [
    "def func():\n",
    "    X = 'NI'\n",
    "    def nested():\n",
    "        nonlocal X\n",
    "        X = 'spam'\n",
    "    nested()\n",
    "    print(X)\n",
    "\n",
    "func()"
   ]
  },
  {
   "cell_type": "code",
   "execution_count": 18,
   "id": "c1091334",
   "metadata": {},
   "outputs": [],
   "source": [
    "#The nonlocal keyword is used to work with variables inside nested functions, where the variable should not belong to the inner function.\n",
    "\n",
    "#Use the keyword nonlocal to declare that the variable is not local. So it changes the parent X"
   ]
  },
  {
   "cell_type": "code",
   "execution_count": null,
   "id": "8a5b307e",
   "metadata": {},
   "outputs": [],
   "source": []
  }
 ],
 "metadata": {
  "kernelspec": {
   "display_name": "Python 3 (ipykernel)",
   "language": "python",
   "name": "python3"
  },
  "language_info": {
   "codemirror_mode": {
    "name": "ipython",
    "version": 3
   },
   "file_extension": ".py",
   "mimetype": "text/x-python",
   "name": "python",
   "nbconvert_exporter": "python",
   "pygments_lexer": "ipython3",
   "version": "3.10.2"
  }
 },
 "nbformat": 4,
 "nbformat_minor": 5
}
