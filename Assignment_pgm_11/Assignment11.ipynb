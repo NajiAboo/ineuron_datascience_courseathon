{
 "cells": [
  {
   "cell_type": "markdown",
   "id": "b2a081b6",
   "metadata": {},
   "source": [
    "# 1. Write a Python program to find words which are greater than given length k?"
   ]
  },
  {
   "cell_type": "code",
   "execution_count": 2,
   "id": "684a4a34",
   "metadata": {},
   "outputs": [],
   "source": [
    "\n",
    "def get_k(k, str):\n",
    "    string = []\n",
    "    text = str.split(\" \")\n",
    "    for x in text:\n",
    "        if len(x) > k:\n",
    "            string.append(x)\n",
    "    return string\n"
   ]
  },
  {
   "cell_type": "code",
   "execution_count": 5,
   "id": "8a6c8a6e",
   "metadata": {},
   "outputs": [
    {
     "name": "stdout",
     "output_type": "stream",
     "text": [
      "Enter k number5\n",
      "['programmer']\n"
     ]
    }
   ],
   "source": [
    "k = int(input(\"Enter k number\"))\n",
    "str =\"I am doing good. I love to be a programmer\"\n",
    "print(string_k(k, str))\n"
   ]
  },
  {
   "cell_type": "markdown",
   "id": "bbd111b4",
   "metadata": {},
   "source": [
    "# 2. Write a Python program for removing i-th character from a string?"
   ]
  },
  {
   "cell_type": "code",
   "execution_count": 12,
   "id": "41f0f60d",
   "metadata": {},
   "outputs": [
    {
     "name": "stdout",
     "output_type": "stream",
     "text": [
      "Enter the string: how\n",
      "Enter the ith character: 3\n",
      "ho\n"
     ]
    }
   ],
   "source": [
    "def remove_char(s, i):\n",
    "    a = s[ : i]\n",
    "    b = s[i + 1: ]\n",
    "\n",
    "    return a+b\n",
    "\n",
    "string = input(\"Enter the string: \")\n",
    "i = int(input(\"Enter the ith character: \"))\n",
    "\n",
    "if i > len(string):\n",
    "    print(f\"Please enter number less than {len(string)}\")\n",
    "else:\n",
    "    print(remove_char(string,i-1))"
   ]
  },
  {
   "cell_type": "markdown",
   "id": "efe87173",
   "metadata": {},
   "source": [
    "# 3. Write a Python program to split and join a string?"
   ]
  },
  {
   "cell_type": "code",
   "execution_count": 17,
   "id": "99d5f8b4",
   "metadata": {},
   "outputs": [],
   "source": [
    "def split_string(string):\n",
    "    list_string = string.split(' ')\n",
    "    return list_string\n",
    "\n",
    "def join_string(list_string):\n",
    "    string = ''.join(list_string)\n",
    "    return string\n"
   ]
  },
  {
   "cell_type": "code",
   "execution_count": 18,
   "id": "0430e0d7",
   "metadata": {},
   "outputs": [
    {
     "name": "stdout",
     "output_type": "stream",
     "text": [
      "['Mohamed', 'Naji', 'Aboo']\n",
      "MohamedNajiAboo\n"
     ]
    }
   ],
   "source": [
    "\n",
    "string = 'Mohamed Naji Aboo'\n",
    "list_string = split_string(string)\n",
    "print(list_string)\n",
    "new_string = join_string(list_string)\n",
    "print(new_string)\n"
   ]
  },
  {
   "cell_type": "markdown",
   "id": "1ad2966d",
   "metadata": {},
   "source": [
    "# 4. write a Python to check if a given string is binary string or not?"
   ]
  },
  {
   "cell_type": "code",
   "execution_count": 24,
   "id": "c3ac56df",
   "metadata": {},
   "outputs": [
    {
     "name": "stdout",
     "output_type": "stream",
     "text": [
      "Yes\n"
     ]
    }
   ],
   "source": [
    "import re\n",
    "sampleInput = \"1001010101010\"\n",
    "\n",
    "c = re.compile('[^01]')\n",
    "if(len(c.findall(sampleInput))):\n",
    "    print(\"No\")\n",
    "else:\n",
    "    print(\"Yes\")\n"
   ]
  },
  {
   "cell_type": "markdown",
   "id": "a70be4c6",
   "metadata": {},
   "source": [
    "# 5. Write a Python program to find uncommon words from two Strings?"
   ]
  },
  {
   "cell_type": "code",
   "execution_count": 32,
   "id": "cf7cdfa9",
   "metadata": {},
   "outputs": [],
   "source": [
    "def uncommon(a,b):\n",
    "    list_a = a.split()\n",
    "    list_b = b.split()\n",
    "    uc = ''\n",
    "    for i in list_a:\n",
    "        if i not in list_b:\n",
    "            uc = uc+\" \"+i\n",
    "    for j in list_b:\n",
    "        if j not in list_a:\n",
    "            uc = uc+\" \"+j\n",
    "\n",
    "    return uc\n"
   ]
  },
  {
   "cell_type": "code",
   "execution_count": 33,
   "id": "7781f954",
   "metadata": {},
   "outputs": [
    {
     "name": "stdout",
     "output_type": "stream",
     "text": [
      " my country ineuron\n"
     ]
    }
   ],
   "source": [
    "t1 = \"I love my country\"\n",
    "t2 = \"I love ineuron\"\n",
    "print(uncommon(t1, t2))"
   ]
  },
  {
   "cell_type": "markdown",
   "id": "527c78d3",
   "metadata": {},
   "source": [
    "# 6. Write a Python to find all duplicate characters in string?"
   ]
  },
  {
   "cell_type": "code",
   "execution_count": 40,
   "id": "968308bf",
   "metadata": {},
   "outputs": [
    {
     "name": "stdout",
     "output_type": "stream",
     "text": [
      "Enter the string aabbccd\n",
      "duplicate characters: ['a', 'b', 'c']\n"
     ]
    }
   ],
   "source": [
    "txt = input(\"Enter the string \")\n",
    "ex = list(txt)\n",
    "dupl = []\n",
    "\n",
    "for i in ex:\n",
    "    if ex.count(i) > 1 and i not in dupl :\n",
    "        dupl.append(i)\n",
    "print(f\"duplicate characters: {dupl}\")\n",
    "    "
   ]
  },
  {
   "cell_type": "markdown",
   "id": "e724ff65",
   "metadata": {},
   "source": [
    "# 7. Write a Python Program to check if a string contains any special character?"
   ]
  },
  {
   "cell_type": "code",
   "execution_count": 45,
   "id": "a46fdb72",
   "metadata": {},
   "outputs": [],
   "source": [
    "import re\n",
    "def run(string):\n",
    "    regex = re.compile('[@_!#$%^&*()<>?/\\|}{~:]')\n",
    "    if(regex.search(string) == None):\n",
    "        print(\"String has not any special characters\")\n",
    "    else:\n",
    "        print(\"String  has special character\")"
   ]
  },
  {
   "cell_type": "code",
   "execution_count": 48,
   "id": "57bfeb2a",
   "metadata": {},
   "outputs": [
    {
     "name": "stdout",
     "output_type": "stream",
     "text": [
      "String has not any special characters\n"
     ]
    }
   ],
   "source": [
    "string = \"Naji Aboo\"\n",
    "run(string)"
   ]
  },
  {
   "cell_type": "code",
   "execution_count": null,
   "id": "1acef46f",
   "metadata": {},
   "outputs": [],
   "source": []
  }
 ],
 "metadata": {
  "kernelspec": {
   "display_name": "Python 3 (ipykernel)",
   "language": "python",
   "name": "python3"
  },
  "language_info": {
   "codemirror_mode": {
    "name": "ipython",
    "version": 3
   },
   "file_extension": ".py",
   "mimetype": "text/x-python",
   "name": "python",
   "nbconvert_exporter": "python",
   "pygments_lexer": "ipython3",
   "version": "3.10.2"
  }
 },
 "nbformat": 4,
 "nbformat_minor": 5
}
