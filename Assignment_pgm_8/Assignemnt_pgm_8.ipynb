{
 "cells": [
  {
   "cell_type": "markdown",
   "id": "1197f796",
   "metadata": {},
   "source": [
    "# 1. Write a Python Program to Add Two Matrices?"
   ]
  },
  {
   "cell_type": "code",
   "execution_count": 3,
   "id": "59523b40",
   "metadata": {},
   "outputs": [],
   "source": [
    "import numpy as np\n",
    "\n",
    "mat1 = np.array([[11,14,26],\n",
    "        [17,57,8],\n",
    "        [18,12,13]])\n",
    "mat2 = np.array([[12,43,74],\n",
    "        [5,8,3],\n",
    "        [8,9,9]])\n",
    "\n",
    "matsum = np.add(mat1,mat2)\n"
   ]
  },
  {
   "cell_type": "code",
   "execution_count": 4,
   "id": "6d68b10c",
   "metadata": {},
   "outputs": [
    {
     "data": {
      "text/plain": [
       "array([[ 23,  57, 100],\n",
       "       [ 22,  65,  11],\n",
       "       [ 26,  21,  22]])"
      ]
     },
     "execution_count": 4,
     "metadata": {},
     "output_type": "execute_result"
    }
   ],
   "source": [
    "matsum"
   ]
  },
  {
   "cell_type": "markdown",
   "id": "696e6d93",
   "metadata": {},
   "source": [
    "# 2. Write a Python Program to Multiply Two Matrices?"
   ]
  },
  {
   "cell_type": "code",
   "execution_count": 5,
   "id": "61d8036c",
   "metadata": {},
   "outputs": [],
   "source": [
    "x1 = np.arange(9.0).reshape((3, 3))\n",
    "x2 = np.arange(3.0)\n"
   ]
  },
  {
   "cell_type": "code",
   "execution_count": 6,
   "id": "13577bcd",
   "metadata": {},
   "outputs": [
    {
     "data": {
      "text/plain": [
       "array([[0., 1., 2.],\n",
       "       [3., 4., 5.],\n",
       "       [6., 7., 8.]])"
      ]
     },
     "execution_count": 6,
     "metadata": {},
     "output_type": "execute_result"
    }
   ],
   "source": [
    "x1"
   ]
  },
  {
   "cell_type": "code",
   "execution_count": 7,
   "id": "e0f7b8d7",
   "metadata": {},
   "outputs": [
    {
     "data": {
      "text/plain": [
       "array([0., 1., 2.])"
      ]
     },
     "execution_count": 7,
     "metadata": {},
     "output_type": "execute_result"
    }
   ],
   "source": [
    "x2"
   ]
  },
  {
   "cell_type": "code",
   "execution_count": 17,
   "id": "32225005",
   "metadata": {},
   "outputs": [],
   "source": [
    "r = np.dot(x1 , x2)"
   ]
  },
  {
   "cell_type": "code",
   "execution_count": 18,
   "id": "c6a1035c",
   "metadata": {},
   "outputs": [
    {
     "data": {
      "text/plain": [
       "(3,)"
      ]
     },
     "execution_count": 18,
     "metadata": {},
     "output_type": "execute_result"
    }
   ],
   "source": [
    "r.shape"
   ]
  },
  {
   "cell_type": "code",
   "execution_count": 19,
   "id": "7bd7cf5e",
   "metadata": {},
   "outputs": [
    {
     "data": {
      "text/plain": [
       "(3, 3)"
      ]
     },
     "execution_count": 19,
     "metadata": {},
     "output_type": "execute_result"
    }
   ],
   "source": [
    "x1.shape"
   ]
  },
  {
   "cell_type": "code",
   "execution_count": 20,
   "id": "809b1351",
   "metadata": {},
   "outputs": [
    {
     "data": {
      "text/plain": [
       "(3,)"
      ]
     },
     "execution_count": 20,
     "metadata": {},
     "output_type": "execute_result"
    }
   ],
   "source": [
    "x2.shape"
   ]
  },
  {
   "cell_type": "code",
   "execution_count": 21,
   "id": "ed77c1b6",
   "metadata": {},
   "outputs": [
    {
     "data": {
      "text/plain": [
       "array([ 5., 14., 23.])"
      ]
     },
     "execution_count": 21,
     "metadata": {},
     "output_type": "execute_result"
    }
   ],
   "source": [
    "r"
   ]
  },
  {
   "cell_type": "markdown",
   "id": "ba55b563",
   "metadata": {},
   "source": [
    "# 3. Write a Python Program to Transpose a Matrix?"
   ]
  },
  {
   "cell_type": "code",
   "execution_count": 25,
   "id": "fbb7379a",
   "metadata": {},
   "outputs": [
    {
     "name": "stdout",
     "output_type": "stream",
     "text": [
      "[12, 4, 3]\n",
      "[7, 5, 8]\n",
      "[4, 67, 50]\n"
     ]
    }
   ],
   "source": [
    "X = [[12,7,4],\n",
    "    [4 ,5,67],\n",
    "    [3 ,8,50]]\n",
    "\n",
    "result = [[0,0,0],\n",
    "         [0,0,0],\n",
    "         [0,0,0]]\n",
    "\n",
    " \n",
    "for i in range(len(X)):\n",
    "    for j in range(len(X[0])):\n",
    "        result[j][i] = X[i][j]\n",
    "\n",
    "for r in result:\n",
    "    print(r)"
   ]
  },
  {
   "cell_type": "markdown",
   "id": "433a1c5f",
   "metadata": {},
   "source": [
    "# 4.Write a Python Program to Sort Words in Alphabetic Order?"
   ]
  },
  {
   "cell_type": "code",
   "execution_count": 28,
   "id": "56c64594",
   "metadata": {},
   "outputs": [
    {
     "name": "stdout",
     "output_type": "stream",
     "text": [
      "am\n",
      "doing\n",
      "from\n",
      "fullstack\n",
      "i\n",
      "ineuron\n"
     ]
    }
   ],
   "source": [
    "str_sort = \"I am doing fullstack from ineuron\"\n",
    "words = [word.lower() for word in str_sort.split()]\n",
    "words.sort()\n",
    "for word in words:\n",
    "    print(word)"
   ]
  },
  {
   "cell_type": "markdown",
   "id": "e9e533b6",
   "metadata": {},
   "source": [
    "# 5. Write a Python Program to Remove Punctuation From a String?"
   ]
  },
  {
   "cell_type": "code",
   "execution_count": 34,
   "id": "3539db07",
   "metadata": {},
   "outputs": [
    {
     "name": "stdout",
     "output_type": "stream",
     "text": [
      "Please enter the string India is my country. Do you love your country? It's beautiful. How are you?? it's good!!!!!!. a_b\n"
     ]
    }
   ],
   "source": [
    "puc = [\".\",\",\",\";\",\":\",\"?\",\"-\",\"!\",\"_\",\"...\",\"'\"]\n",
    "in_str = input(\"Please enter the string \")"
   ]
  },
  {
   "cell_type": "code",
   "execution_count": 35,
   "id": "197cb8f6",
   "metadata": {},
   "outputs": [],
   "source": [
    "ch1 = [ch for ch in in_str if ch not in puc]"
   ]
  },
  {
   "cell_type": "code",
   "execution_count": 36,
   "id": "b873a673",
   "metadata": {},
   "outputs": [
    {
     "data": {
      "text/plain": [
       "'India is my country Do you love your country Its beautiful How are you its good ab'"
      ]
     },
     "execution_count": 36,
     "metadata": {},
     "output_type": "execute_result"
    }
   ],
   "source": [
    "''.join(ch1)"
   ]
  },
  {
   "cell_type": "code",
   "execution_count": null,
   "id": "6c5997a1",
   "metadata": {},
   "outputs": [],
   "source": []
  }
 ],
 "metadata": {
  "kernelspec": {
   "display_name": "Python 3 (ipykernel)",
   "language": "python",
   "name": "python3"
  },
  "language_info": {
   "codemirror_mode": {
    "name": "ipython",
    "version": 3
   },
   "file_extension": ".py",
   "mimetype": "text/x-python",
   "name": "python",
   "nbconvert_exporter": "python",
   "pygments_lexer": "ipython3",
   "version": "3.10.2"
  }
 },
 "nbformat": 4,
 "nbformat_minor": 5
}
