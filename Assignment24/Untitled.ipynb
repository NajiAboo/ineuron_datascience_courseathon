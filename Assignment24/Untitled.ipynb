{
 "cells": [
  {
   "cell_type": "markdown",
   "id": "c61ffecf",
   "metadata": {},
   "source": [
    "# 1. What is the relationship between def statements and lambda expressions ?"
   ]
  },
  {
   "cell_type": "code",
   "execution_count": 1,
   "id": "4b1aefaa",
   "metadata": {},
   "outputs": [],
   "source": [
    "# def that marks the start of the function header. A function name to uniquely identify the function. Function naming follows the same rules of writing identifiers in Python\n",
    "\n",
    "#Lambdas are one-line methods without a name or we can say anonymous Func They work practically the same as any other method in Python Lambdas differ from normal Python methods because they can have only one expression, can't contain any statements and their return type is a function object"
   ]
  },
  {
   "cell_type": "markdown",
   "id": "93708a47",
   "metadata": {},
   "source": [
    "# 2. What is the benefit of lambda?"
   ]
  },
  {
   "cell_type": "code",
   "execution_count": 2,
   "id": "5ce877bb",
   "metadata": {},
   "outputs": [],
   "source": [
    "# Easy to use\n",
    "#Fewer Lines of Code Lambda functions are inline functions \n",
    "#thus execute comparatively faster Many times lambda functions make code much more readable by avoiding the logical jumps caused by function calls"
   ]
  },
  {
   "cell_type": "markdown",
   "id": "0dc1ff34",
   "metadata": {},
   "source": [
    "# 3. Compare and contrast map, filter, and reduce."
   ]
  },
  {
   "cell_type": "code",
   "execution_count": 3,
   "id": "925b8c30",
   "metadata": {},
   "outputs": [],
   "source": [
    "# map applies as a transformation to an element. The map() function iterates through all items in the given iterable and executes the function we passed as an argument on each of them. Syntax : map(function, iterable(s))\n",
    "\n",
    "#filter accumulates only elements matching a condition. filter() forms a new list that contains only elements that satisfy a certain condition, i.e. the function we passed returns True Syntax : filter(function, iterable(s))\n",
    "\n",
    "#reduce accumulates all elements to a single value, by using immutable values reduce() works by calling the function we passed for the first two items in the sequence. The result returned by the function is used in another call to function alongside with the next (third in this case), element Syntax : reduce(function, sequence[, initial])"
   ]
  },
  {
   "cell_type": "markdown",
   "id": "21b30524",
   "metadata": {},
   "source": [
    "# 4. What are function annotations, and how are they used?"
   ]
  },
  {
   "cell_type": "code",
   "execution_count": 4,
   "id": "3b7e1426",
   "metadata": {},
   "outputs": [],
   "source": [
    "#Function annotation is the standard way to access the metadata with the arguments and the return value of the function. These are nothing but some random and optional Python expressions that get allied to different parts of the function. They get evaluated only during the compile-time and have no significance during the run-time of the code. They do not have any significance or meaning associated with them until accessed by some third-party libraries. They are used to type check the functions by declaring the type of the parameters and the return value for the functions. The string-based annotations help us to improve the help messages."
   ]
  },
  {
   "cell_type": "code",
   "execution_count": 5,
   "id": "0ed25d24",
   "metadata": {},
   "outputs": [
    {
     "name": "stdout",
     "output_type": "stream",
     "text": [
      "{'n1': 'float', 'b1': 'int', 'return': 'test'}\n"
     ]
    }
   ],
   "source": [
    "def test(n1:'float', b1:'int')-> 'test': \n",
    "    pass\n",
    "print(test.__annotations__)"
   ]
  },
  {
   "cell_type": "markdown",
   "id": "ff7a4aa9",
   "metadata": {},
   "source": [
    "# 5. What are recursive functions, and how are they used?"
   ]
  },
  {
   "cell_type": "code",
   "execution_count": 7,
   "id": "5f2d52e8",
   "metadata": {},
   "outputs": [],
   "source": [
    "#Recursion is a common mathematical and programming concept. It means that a function calls itself. This has the benefit of meaning that you can loop through data to reach a result.\n",
    "\n"
   ]
  },
  {
   "cell_type": "code",
   "execution_count": 10,
   "id": "94f6ba4c",
   "metadata": {},
   "outputs": [
    {
     "name": "stdout",
     "output_type": "stream",
     "text": [
      "recursion\n",
      "1\n",
      "3\n",
      "6\n",
      "10\n",
      "15\n",
      "21\n"
     ]
    },
    {
     "data": {
      "text/plain": [
       "21"
      ]
     },
     "execution_count": 10,
     "metadata": {},
     "output_type": "execute_result"
    }
   ],
   "source": [
    "def tri_recursion(k):\n",
    "    if(k>0):\n",
    "        result = k+tri_recursion(k-1)\n",
    "        print(result)\n",
    "    else:\n",
    "        result = 0\n",
    "    return result\n",
    "\n",
    "print(\"recursion\")\n",
    "tri_recursion(6)"
   ]
  },
  {
   "cell_type": "markdown",
   "id": "7fbedc65",
   "metadata": {},
   "source": [
    "# 6. What are some general design guidelines for coding functions?"
   ]
  },
  {
   "cell_type": "code",
   "execution_count": 11,
   "id": "74833d37",
   "metadata": {},
   "outputs": [],
   "source": [
    "#Use 4-space indentation and no tabs.\n",
    "#Use docstrings\n",
    "#Use of regular and updated comments are valuable to both the coders and users\n",
    "#Use Python’s default UTF-8 or ASCII encodings and not any fancy encodings\n",
    "#Naming Conventions 8.Characters that should not be used for identifiers : ‘l’ (lowercase letter el), ‘O’ (uppercase letter oh), ‘I’ (uppercase letter eye) as single character variable names as these are similar to the numerals one and zero.\n",
    "#Don’t use non-ASCII characters in identifiers\n",
    "#Name your classes and functions consistently\n",
    "#While naming of function of methods always use self for the first argument"
   ]
  },
  {
   "cell_type": "markdown",
   "id": "d825d814",
   "metadata": {},
   "source": [
    "# 7. Name three or more ways that functions can communicate results to a caller.\n"
   ]
  },
  {
   "cell_type": "code",
   "execution_count": 12,
   "id": "93d3a4a6",
   "metadata": {},
   "outputs": [],
   "source": [
    "#Function can return single value\n",
    "#Can return multiple values, tuple\n",
    "#can return list,dictionary\n",
    "#return as class object"
   ]
  },
  {
   "cell_type": "code",
   "execution_count": null,
   "id": "6d5e302b",
   "metadata": {},
   "outputs": [],
   "source": []
  }
 ],
 "metadata": {
  "kernelspec": {
   "display_name": "Python 3 (ipykernel)",
   "language": "python",
   "name": "python3"
  },
  "language_info": {
   "codemirror_mode": {
    "name": "ipython",
    "version": 3
   },
   "file_extension": ".py",
   "mimetype": "text/x-python",
   "name": "python",
   "nbconvert_exporter": "python",
   "pygments_lexer": "ipython3",
   "version": "3.10.2"
  }
 },
 "nbformat": 4,
 "nbformat_minor": 5
}
