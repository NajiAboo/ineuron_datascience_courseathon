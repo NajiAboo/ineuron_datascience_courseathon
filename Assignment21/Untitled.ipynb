{
 "cells": [
  {
   "cell_type": "markdown",
   "id": "539e5c35",
   "metadata": {},
   "source": [
    "# 1. Add the current date to the text file today.txt as a string."
   ]
  },
  {
   "cell_type": "code",
   "execution_count": 3,
   "id": "cdf8eb86",
   "metadata": {},
   "outputs": [],
   "source": [
    "from datetime import date\n",
    "now = date.today()\n",
    "cur_date = now.isoformat()\n",
    "with open('today.txt','w') as file:\n",
    "    file.write(cur_date)"
   ]
  },
  {
   "cell_type": "markdown",
   "id": "e243ef8f",
   "metadata": {},
   "source": [
    "# 2. Read the text file today.txt into the string today_string"
   ]
  },
  {
   "cell_type": "code",
   "execution_count": 4,
   "id": "93e9523b",
   "metadata": {},
   "outputs": [
    {
     "data": {
      "text/plain": [
       "'2022-03-03'"
      ]
     },
     "execution_count": 4,
     "metadata": {},
     "output_type": "execute_result"
    }
   ],
   "source": [
    "with open('today.txt','r') as file:\n",
    "    today_string = file.read()\n",
    "today_string"
   ]
  },
  {
   "cell_type": "markdown",
   "id": "333db211",
   "metadata": {},
   "source": [
    "# 3. Parse the date from today_string."
   ]
  },
  {
   "cell_type": "code",
   "execution_count": 6,
   "id": "dc2f500b",
   "metadata": {},
   "outputs": [],
   "source": [
    "from datetime import datetime\n",
    "format = '%Y-%m-%d'\n",
    "date_time_obj = datetime.strptime(today_string,format)\n"
   ]
  },
  {
   "cell_type": "code",
   "execution_count": 7,
   "id": "f2fb5dd5",
   "metadata": {},
   "outputs": [
    {
     "name": "stdout",
     "output_type": "stream",
     "text": [
      "Date: 2022-03-03\n",
      "Time: 00:00:00\n",
      "Date-time: 2022-03-03 00:00:00\n"
     ]
    }
   ],
   "source": [
    "\n",
    "print('Date:', date_time_obj.date())\n",
    "print('Time:', date_time_obj.time())\n",
    "print('Date-time:', date_time_obj)"
   ]
  },
  {
   "cell_type": "markdown",
   "id": "9f62b998",
   "metadata": {},
   "source": [
    "# 4. List the files in your current directory"
   ]
  },
  {
   "cell_type": "code",
   "execution_count": 8,
   "id": "ca07862d",
   "metadata": {},
   "outputs": [
    {
     "data": {
      "text/plain": [
       "['.ipynb_checkpoints',\n",
       " '.~lock.Assignment_21.docx#',\n",
       " 'Assignment_21.docx',\n",
       " 'today.txt',\n",
       " 'Untitled.ipynb']"
      ]
     },
     "execution_count": 8,
     "metadata": {},
     "output_type": "execute_result"
    }
   ],
   "source": [
    "import os\n",
    "os.listdir('.')"
   ]
  },
  {
   "cell_type": "markdown",
   "id": "8bafb5f6",
   "metadata": {},
   "source": [
    "# 5. Create a list of all of the files in your parent directory (minimum five files should be available)."
   ]
  },
  {
   "cell_type": "code",
   "execution_count": 11,
   "id": "ea7e7887",
   "metadata": {},
   "outputs": [],
   "source": [
    "import os\n",
    "p_list = os.listdir('..')"
   ]
  },
  {
   "cell_type": "code",
   "execution_count": 12,
   "id": "6b905793",
   "metadata": {},
   "outputs": [
    {
     "data": {
      "text/plain": [
       "['.git',\n",
       " 'Assignment1',\n",
       " 'Assignment10',\n",
       " 'Assignment11',\n",
       " 'Assignment12',\n",
       " 'Assignment13',\n",
       " 'Assignment14',\n",
       " 'Assignment15',\n",
       " 'Assignment16',\n",
       " 'Assignment17',\n",
       " 'Assignment18',\n",
       " 'Assignment19',\n",
       " 'Assignment2',\n",
       " 'Assignment20',\n",
       " 'Assignment21',\n",
       " 'Assignment3',\n",
       " 'Assignment4',\n",
       " 'Assignment5',\n",
       " 'Assignment6',\n",
       " 'Assignment7',\n",
       " 'Assignment8',\n",
       " 'Assignment9',\n",
       " 'Assignment_pgm_1',\n",
       " 'Assignment_pgm_2',\n",
       " 'Assignment_pgm_3',\n",
       " 'Assignment_pgm_4',\n",
       " 'README.md']"
      ]
     },
     "execution_count": 12,
     "metadata": {},
     "output_type": "execute_result"
    }
   ],
   "source": [
    "p_list"
   ]
  },
  {
   "cell_type": "markdown",
   "id": "8dbfda76",
   "metadata": {},
   "source": [
    "# 6. Use multiprocessing to create three separate processes. Make each one wait a random number of seconds between one and five, print the current time, and then exit."
   ]
  },
  {
   "cell_type": "code",
   "execution_count": 13,
   "id": "7d89a672",
   "metadata": {},
   "outputs": [
    {
     "name": "stdout",
     "output_type": "stream",
     "text": [
      "wait 0.1659093116218543 seconds, time is 2022-03-03 16:27:13.567210\n",
      "wait 0.19169002389441636 seconds, time is 2022-03-03 16:27:13.623774\n",
      "wait 0.7018247683000823 seconds, time is 2022-03-03 16:27:14.105341\n"
     ]
    }
   ],
   "source": [
    "import multiprocessing\n",
    "\n",
    "def printsec(seconds):\n",
    "    from datetime import datetime\n",
    "    from time import sleep\n",
    "    sleep(seconds)\n",
    "    print('wait', seconds, 'seconds, time is', datetime.utcnow())\n",
    "    \n",
    "if __name__ == '__main__':\n",
    "    import random    \n",
    "    for n in range(3):\n",
    "        seconds = random.random()\n",
    "        proc = multiprocessing.Process(target=printsec, args=(seconds,))\n",
    "        proc.start()"
   ]
  },
  {
   "cell_type": "markdown",
   "id": "6769aeb0",
   "metadata": {},
   "source": [
    "# 7. Create a date object of your day of birth."
   ]
  },
  {
   "cell_type": "code",
   "execution_count": 14,
   "id": "818c5e1c",
   "metadata": {},
   "outputs": [
    {
     "data": {
      "text/plain": [
       "datetime.date(2000, 11, 11)"
      ]
     },
     "execution_count": 14,
     "metadata": {},
     "output_type": "execute_result"
    }
   ],
   "source": [
    "dob = date(2000,11,11)\n",
    "dob"
   ]
  },
  {
   "cell_type": "markdown",
   "id": "6b1bfd83",
   "metadata": {},
   "source": [
    "# 8. What day of the week was your day of birth?"
   ]
  },
  {
   "cell_type": "code",
   "execution_count": 15,
   "id": "cd4b0d33",
   "metadata": {},
   "outputs": [
    {
     "data": {
      "text/plain": [
       "5"
      ]
     },
     "execution_count": 15,
     "metadata": {},
     "output_type": "execute_result"
    }
   ],
   "source": [
    "dob.weekday()"
   ]
  },
  {
   "cell_type": "markdown",
   "id": "0f0b5382",
   "metadata": {},
   "source": [
    "# 9. When will you be (or when were you) 10,000 days old?"
   ]
  },
  {
   "cell_type": "code",
   "execution_count": null,
   "id": "5522285b",
   "metadata": {},
   "outputs": [],
   "source": []
  }
 ],
 "metadata": {
  "kernelspec": {
   "display_name": "Python 3 (ipykernel)",
   "language": "python",
   "name": "python3"
  },
  "language_info": {
   "codemirror_mode": {
    "name": "ipython",
    "version": 3
   },
   "file_extension": ".py",
   "mimetype": "text/x-python",
   "name": "python",
   "nbconvert_exporter": "python",
   "pygments_lexer": "ipython3",
   "version": "3.10.2"
  }
 },
 "nbformat": 4,
 "nbformat_minor": 5
}
