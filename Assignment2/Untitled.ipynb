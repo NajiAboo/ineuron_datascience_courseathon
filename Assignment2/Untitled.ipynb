{
 "cells": [
  {
   "cell_type": "markdown",
   "id": "4e72f3ee",
   "metadata": {},
   "source": [
    "1.What are the two values of the Boolean data type? How do you write them?"
   ]
  },
  {
   "cell_type": "code",
   "execution_count": 2,
   "id": "edc76c4f",
   "metadata": {},
   "outputs": [
    {
     "data": {
      "text/plain": [
       "True"
      ]
     },
     "execution_count": 2,
     "metadata": {},
     "output_type": "execute_result"
    }
   ],
   "source": [
    "True or False"
   ]
  },
  {
   "cell_type": "code",
   "execution_count": 3,
   "id": "fedd1cc0",
   "metadata": {},
   "outputs": [],
   "source": [
    "value=True"
   ]
  },
  {
   "cell_type": "code",
   "execution_count": 4,
   "id": "bbec4d35",
   "metadata": {},
   "outputs": [],
   "source": [
    "value=False"
   ]
  },
  {
   "cell_type": "code",
   "execution_count": null,
   "id": "e911a98b",
   "metadata": {},
   "outputs": [],
   "source": [
    "1.What are the two values of the Boolean data type? How do you write them"
   ]
  },
  {
   "cell_type": "code",
   "execution_count": null,
   "id": "5d50bdc9",
   "metadata": {},
   "outputs": [],
   "source": []
  }
 ],
 "metadata": {
  "kernelspec": {
   "display_name": "Python 3 (ipykernel)",
   "language": "python",
   "name": "python3"
  },
  "language_info": {
   "codemirror_mode": {
    "name": "ipython",
    "version": 3
   },
   "file_extension": ".py",
   "mimetype": "text/x-python",
   "name": "python",
   "nbconvert_exporter": "python",
   "pygments_lexer": "ipython3",
   "version": "3.9.7"
  }
 },
 "nbformat": 4,
 "nbformat_minor": 5
}
