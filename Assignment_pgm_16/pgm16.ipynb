{
 "cells": [
  {
   "cell_type": "markdown",
   "id": "c9162509",
   "metadata": {},
   "source": [
    "# Question1. Write a function that stutters a word as if someone is struggling to read it. The first two letters are repeated twice with an ellipsis ... and space after each, and then the word is pronounced with a question mark ?.\n",
    "Examples\n",
    "stutter(\"incredible\") ➞ \"in... in... incredible?\"\n",
    "\n",
    "stutter(\"enthusiastic\") ➞ \"en... en... enthusiastic?\"\n",
    "\n",
    "stutter(\"outstanding\") ➞ \"ou... ou... outstanding?\"\n",
    "\n",
    "Hint :- Assume all input is in lower case and at least two characters long."
   ]
  },
  {
   "cell_type": "code",
   "execution_count": 2,
   "id": "6164a4bc",
   "metadata": {},
   "outputs": [],
   "source": [
    "def stutter(word):\n",
    "    s = word[:2]\n",
    "    return (2 * (s + '... ')) + word + '?'\n"
   ]
  },
  {
   "cell_type": "code",
   "execution_count": 6,
   "id": "3cfd5ef2",
   "metadata": {},
   "outputs": [
    {
     "data": {
      "text/plain": [
       "'ou... ou... outstanding?'"
      ]
     },
     "execution_count": 6,
     "metadata": {},
     "output_type": "execute_result"
    }
   ],
   "source": [
    "stutter(\"outstanding\")"
   ]
  },
  {
   "cell_type": "markdown",
   "id": "acd388d4",
   "metadata": {},
   "source": [
    "# Question 2.Create a function that takes an angle in radians and returns the corresponding angle in degrees rounded to one decimal place.\n",
    "Examples\n",
    "radians_to_degrees(1) ➞ 57.3\n",
    "\n",
    "radians_to_degrees(20) ➞ 1145.9\n",
    "\n",
    "radians_to_degrees(50) ➞ 2864.8\n"
   ]
  },
  {
   "cell_type": "code",
   "execution_count": 7,
   "id": "fe63c2b0",
   "metadata": {},
   "outputs": [],
   "source": [
    " \n",
    "def radians_to_degrees(radian):\n",
    "    pi = 3.14159\n",
    "    degree = radian * (180/pi)\n",
    "    return degree\n"
   ]
  },
  {
   "cell_type": "code",
   "execution_count": 14,
   "id": "565a26c7",
   "metadata": {},
   "outputs": [
    {
     "name": "stdout",
     "output_type": "stream",
     "text": [
      "degree = 57.3\n"
     ]
    }
   ],
   "source": [
    "\n",
    "radian = 1\n",
    "print(\"degree =\",(round(radians_to_degrees(radian),1)))\n"
   ]
  },
  {
   "cell_type": "markdown",
   "id": "7349da8a",
   "metadata": {},
   "source": [
    "# Question 3. In this challenge, establish if a given integer num is a Curzon number. If 1 plus 2 elevated to num is exactly divisible by 1 plus 2 multiplied by num, then num is a Curzon number.\n",
    "Given a non-negative integer num, implement a function that returns True if num is a Curzon number, or False otherwise.\n",
    "Examples\n",
    "is_curzon(5) ➞ True\n",
    "# 2 ** 5 + 1 = 33\n",
    "# 2 * 5 + 1 = 11\n",
    "# 33 is a multiple of 11\n",
    "\n",
    "is_curzon(10) ➞ False\n",
    "# 2 ** 10 + 1 = 1025\n",
    "# 2 * 10 + 1 = 21\n",
    "# 1025 is not a multiple of 21\n",
    "\n",
    "is_curzon(14) ➞ True\n",
    "# 2 ** 14 + 1 = 16385\n",
    "# 2 * 14 + 1 = 29\n",
    "# 16385 is a multiple of 29"
   ]
  },
  {
   "cell_type": "code",
   "execution_count": 19,
   "id": "9d180c38",
   "metadata": {},
   "outputs": [],
   "source": [
    " \n",
    "def is_curzon(N):\n",
    "\n",
    "    powerTerm, productTerm = 0, 0\n",
    "    powerTerm = pow(2, N) + 1\n",
    "    productTerm = 2 * N + 1\n",
    "    if (powerTerm % productTerm == 0):\n",
    "        print(\"True\")\n",
    "    else:\n",
    "        print(\"False\")\n"
   ]
  },
  {
   "cell_type": "code",
   "execution_count": 20,
   "id": "171eebbd",
   "metadata": {},
   "outputs": [
    {
     "name": "stdout",
     "output_type": "stream",
     "text": [
      "True\n"
     ]
    }
   ],
   "source": [
    "is_curzon(5)"
   ]
  },
  {
   "cell_type": "code",
   "execution_count": 21,
   "id": "6e6996a0",
   "metadata": {},
   "outputs": [
    {
     "name": "stdout",
     "output_type": "stream",
     "text": [
      "False\n"
     ]
    }
   ],
   "source": [
    "is_curzon(10)"
   ]
  },
  {
   "cell_type": "code",
   "execution_count": 22,
   "id": "23441172",
   "metadata": {},
   "outputs": [
    {
     "name": "stdout",
     "output_type": "stream",
     "text": [
      "True\n"
     ]
    }
   ],
   "source": [
    "is_curzon(14)"
   ]
  },
  {
   "cell_type": "markdown",
   "id": "e9f03189",
   "metadata": {},
   "source": [
    "# Question 4.Given the side length x find the area of a hexagon."
   ]
  },
  {
   "cell_type": "code",
   "execution_count": 36,
   "id": "35b30368",
   "metadata": {},
   "outputs": [],
   "source": [
    " \n",
    "import math\n",
    "\n",
    "def area_of_hexagon(s):\n",
    "    r = (3 * math.sqrt(3) * (s * s)) / 2\n",
    "    return (round(r,1))\n"
   ]
  },
  {
   "cell_type": "code",
   "execution_count": 37,
   "id": "f9395bf7",
   "metadata": {},
   "outputs": [
    {
     "data": {
      "text/plain": [
       "2.6"
      ]
     },
     "execution_count": 37,
     "metadata": {},
     "output_type": "execute_result"
    }
   ],
   "source": [
    "area_of_hexagon(1)"
   ]
  },
  {
   "cell_type": "code",
   "execution_count": 38,
   "id": "8ba1644c",
   "metadata": {},
   "outputs": [
    {
     "data": {
      "text/plain": [
       "10.4"
      ]
     },
     "execution_count": 38,
     "metadata": {},
     "output_type": "execute_result"
    }
   ],
   "source": [
    "area_of_hexagon(2)"
   ]
  },
  {
   "cell_type": "code",
   "execution_count": 40,
   "id": "e98e1f41",
   "metadata": {},
   "outputs": [
    {
     "data": {
      "text/plain": [
       "23.4"
      ]
     },
     "execution_count": 40,
     "metadata": {},
     "output_type": "execute_result"
    }
   ],
   "source": [
    "area_of_hexagon(3)"
   ]
  },
  {
   "cell_type": "markdown",
   "id": "3247cf7f",
   "metadata": {},
   "source": [
    "# Question 5. Create a function that returns a base-2 (binary) representation of a base-10 (decimal) string number. To convert is simple: ((2) means base-2 and (10) means base-10) 010101001(2) = 1 + 8 + 32 + 128.\n",
    "Going from right to left, the value of the most right bit is 1, now from that every bit to the left will be x2 the value, value of an 8 bit binary numbers are (256, 128, 64, 32, 16, 8, 4, 2, 1).\n",
    "Examples\n",
    "binary(1) ➞ \"1\"\n",
    "# 1*1 = 1\n",
    "\n",
    "binary(5) ➞ \"101\"\n",
    "# 1*1 + 1*4 = 5\n",
    "\n",
    "binary(10) ➞ \"1010\"\n",
    "# 1*2 + 1*8 = 10"
   ]
  },
  {
   "cell_type": "code",
   "execution_count": 60,
   "id": "bdabb614",
   "metadata": {},
   "outputs": [],
   "source": [
    "def binary(num):\n",
    "    if num >= 1:\n",
    "        binary(num // 2)\n",
    "        print(num % 2, end = '')"
   ]
  },
  {
   "cell_type": "code",
   "execution_count": 61,
   "id": "b3306830",
   "metadata": {},
   "outputs": [
    {
     "name": "stdout",
     "output_type": "stream",
     "text": [
      "1"
     ]
    }
   ],
   "source": [
    "binary(1)"
   ]
  },
  {
   "cell_type": "code",
   "execution_count": 62,
   "id": "81293d0c",
   "metadata": {},
   "outputs": [
    {
     "name": "stdout",
     "output_type": "stream",
     "text": [
      "101"
     ]
    }
   ],
   "source": [
    "binary(5)"
   ]
  },
  {
   "cell_type": "code",
   "execution_count": 64,
   "id": "00241c8b",
   "metadata": {},
   "outputs": [
    {
     "name": "stdout",
     "output_type": "stream",
     "text": [
      "1010"
     ]
    }
   ],
   "source": [
    "binary(10)"
   ]
  },
  {
   "cell_type": "code",
   "execution_count": null,
   "id": "b12d3e10",
   "metadata": {},
   "outputs": [],
   "source": []
  }
 ],
 "metadata": {
  "kernelspec": {
   "display_name": "Python 3 (ipykernel)",
   "language": "python",
   "name": "python3"
  },
  "language_info": {
   "codemirror_mode": {
    "name": "ipython",
    "version": 3
   },
   "file_extension": ".py",
   "mimetype": "text/x-python",
   "name": "python",
   "nbconvert_exporter": "python",
   "pygments_lexer": "ipython3",
   "version": "3.10.2"
  }
 },
 "nbformat": 4,
 "nbformat_minor": 5
}
