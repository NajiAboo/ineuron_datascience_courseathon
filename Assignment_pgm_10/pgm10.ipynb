{
 "cells": [
  {
   "cell_type": "markdown",
   "id": "f132bdac",
   "metadata": {},
   "source": [
    "# 1. Write a Python program to find sum of elements in list?"
   ]
  },
  {
   "cell_type": "code",
   "execution_count": 5,
   "id": "321b6fd0",
   "metadata": {},
   "outputs": [
    {
     "name": "stdout",
     "output_type": "stream",
     "text": [
      "Sum of all elements in given list:  71\n"
     ]
    }
   ],
   "source": [
    "total = 0\n",
    "list1 = [2, 1, 17, 18, 11,10,12]\n",
    " \n",
    "for ele in list1:\n",
    "    total = total + ele\n",
    "\n",
    "\n",
    "print(\"Sum of all elements in given list: \", total)\n",
    "\n"
   ]
  },
  {
   "cell_type": "markdown",
   "id": "28ba1013",
   "metadata": {},
   "source": [
    "# 2. Write a Python program to  Multiply all numbers in the list?"
   ]
  },
  {
   "cell_type": "code",
   "execution_count": 9,
   "id": "d0752085",
   "metadata": {},
   "outputs": [
    {
     "name": "stdout",
     "output_type": "stream",
     "text": [
      "mul of all elements in given list:  80\n"
     ]
    }
   ],
   "source": [
    "total = 1\n",
    "list1 = [2, 1, 2,4,5]\n",
    " \n",
    "for ele in list1:\n",
    "    total = total * ele\n",
    "\n",
    "print(\"mul of all elements in given list: \", total)"
   ]
  },
  {
   "cell_type": "markdown",
   "id": "2ac6c40f",
   "metadata": {},
   "source": [
    "# 3. Write a Python program to find smallest number in a list?"
   ]
  },
  {
   "cell_type": "code",
   "execution_count": 14,
   "id": "0da4e2ca",
   "metadata": {},
   "outputs": [
    {
     "name": "stdout",
     "output_type": "stream",
     "text": [
      "Smallest number is : -5\n"
     ]
    }
   ],
   "source": [
    "sm = None\n",
    "list1 = [2, 1, -2,4,-5]\n",
    "for i in list1:\n",
    "    if sm == None:\n",
    "        sm = i\n",
    "    elif i < sm:\n",
    "        sm = i\n",
    "\n",
    "print(f\"Smallest number is : {sm}\")\n",
    "    "
   ]
  },
  {
   "cell_type": "markdown",
   "id": "db9a4c26",
   "metadata": {},
   "source": [
    "# 4. Write a Python program to find largest number in a list?"
   ]
  },
  {
   "cell_type": "code",
   "execution_count": 17,
   "id": "8423c34b",
   "metadata": {},
   "outputs": [
    {
     "name": "stdout",
     "output_type": "stream",
     "text": [
      "larget number is : 250\n"
     ]
    }
   ],
   "source": [
    "sm = None\n",
    "list1 = [2, 1, -2,4,-5,100,250]\n",
    "for i in list1:\n",
    "    if sm == None:\n",
    "        sm = i\n",
    "    elif i > sm:\n",
    "        sm = i\n",
    "\n",
    "print(f\"larget number is : {sm}\")"
   ]
  },
  {
   "cell_type": "markdown",
   "id": "cfcd64f3",
   "metadata": {},
   "source": [
    "# 5. Write a Python program to find second largest number in a list?"
   ]
  },
  {
   "cell_type": "code",
   "execution_count": 24,
   "id": "070d611b",
   "metadata": {},
   "outputs": [
    {
     "data": {
      "text/plain": [
       "[250, 100, 4, 2, 1, -2, -5]"
      ]
     },
     "execution_count": 24,
     "metadata": {},
     "output_type": "execute_result"
    }
   ],
   "source": [
    "list1 = [2, 1, -2,4,-5,100,250]\n",
    "list1.sort(reverse=True)\n",
    "list1"
   ]
  },
  {
   "cell_type": "code",
   "execution_count": 23,
   "id": "fdec19a2",
   "metadata": {},
   "outputs": [
    {
     "data": {
      "text/plain": [
       "100"
      ]
     },
     "execution_count": 23,
     "metadata": {},
     "output_type": "execute_result"
    }
   ],
   "source": [
    "list1[1]"
   ]
  },
  {
   "cell_type": "markdown",
   "id": "89519089",
   "metadata": {},
   "source": [
    "# 6. Write a Python program to find N largest elements from a list?"
   ]
  },
  {
   "cell_type": "code",
   "execution_count": 29,
   "id": "206b608d",
   "metadata": {},
   "outputs": [
    {
     "data": {
      "text/plain": [
       "[250, 100, 4, 2, 1, -2, -5]"
      ]
     },
     "execution_count": 29,
     "metadata": {},
     "output_type": "execute_result"
    }
   ],
   "source": [
    "list1 = [2, 1, -2,4,-5,100,250]\n",
    "list1.sort(reverse=True)\n",
    "list1"
   ]
  },
  {
   "cell_type": "code",
   "execution_count": 41,
   "id": "eb167311",
   "metadata": {},
   "outputs": [
    {
     "name": "stdout",
     "output_type": "stream",
     "text": [
      "Enter n larget elements1\n"
     ]
    }
   ],
   "source": [
    "n = int(input(\"Enter n larget elements\"))"
   ]
  },
  {
   "cell_type": "code",
   "execution_count": 42,
   "id": "799f9480",
   "metadata": {},
   "outputs": [
    {
     "data": {
      "text/plain": [
       "[250]"
      ]
     },
     "execution_count": 42,
     "metadata": {},
     "output_type": "execute_result"
    }
   ],
   "source": [
    "list1[:n]"
   ]
  },
  {
   "cell_type": "code",
   "execution_count": 31,
   "id": "9a1fc0f6",
   "metadata": {},
   "outputs": [
    {
     "data": {
      "text/plain": [
       "[2, 1, -2, -5]"
      ]
     },
     "execution_count": 31,
     "metadata": {},
     "output_type": "execute_result"
    }
   ],
   "source": [
    "list1[3:]"
   ]
  },
  {
   "cell_type": "markdown",
   "id": "8a474f6f",
   "metadata": {},
   "source": [
    "# 7. Write a Python program to print even numbers in a list?"
   ]
  },
  {
   "cell_type": "code",
   "execution_count": 43,
   "id": "361b01de",
   "metadata": {},
   "outputs": [
    {
     "name": "stdout",
     "output_type": "stream",
     "text": [
      "2\n",
      "-2\n",
      "4\n",
      "100\n",
      "250\n"
     ]
    }
   ],
   "source": [
    "list1 = [2, 1, -2,4,-5,100,250]\n",
    "for i in list1:\n",
    "    if i % 2 == 0:\n",
    "        print(i)"
   ]
  },
  {
   "cell_type": "markdown",
   "id": "ecdd2a72",
   "metadata": {},
   "source": [
    "# 8. Write a Python program to print odd numbers in a List?"
   ]
  },
  {
   "cell_type": "code",
   "execution_count": 44,
   "id": "3037bb53",
   "metadata": {},
   "outputs": [
    {
     "name": "stdout",
     "output_type": "stream",
     "text": [
      "1\n",
      "-5\n"
     ]
    }
   ],
   "source": [
    "list1 = [2, 1, -2,4,-5,100,250]\n",
    "for i in list1:\n",
    "    if i % 2 != 0:\n",
    "        print(i)"
   ]
  },
  {
   "cell_type": "markdown",
   "id": "cff21050",
   "metadata": {},
   "source": [
    "# 9. Write a Python program to Remove empty List from List?"
   ]
  },
  {
   "cell_type": "code",
   "execution_count": 51,
   "id": "a58a6374",
   "metadata": {},
   "outputs": [
    {
     "name": "stdout",
     "output_type": "stream",
     "text": [
      "[5, 6, 3, 9, [2, 3]]\n"
     ]
    }
   ],
   "source": [
    "sample = [5, 6, [], 3, [], [], 9, [2,3]]\n",
    "\n",
    "res = [ele for ele in sample if ele != []]\n",
    "print (res)\n"
   ]
  },
  {
   "cell_type": "markdown",
   "id": "48ebd978",
   "metadata": {},
   "source": [
    "# 10. Write a Python program to Cloning or Copying a list?"
   ]
  },
  {
   "cell_type": "code",
   "execution_count": 52,
   "id": "13a2d263",
   "metadata": {},
   "outputs": [],
   "source": [
    "def Cloning(li1):\n",
    "    li_copy = li1[:]\n",
    "    return li_copy\n"
   ]
  },
  {
   "cell_type": "code",
   "execution_count": 53,
   "id": "a743aae0",
   "metadata": {},
   "outputs": [
    {
     "name": "stdout",
     "output_type": "stream",
     "text": [
      "org: [4, 8, 2, 10, 15, 18]\n",
      "clone: [4, 8, 2, 10, 15, 18]\n"
     ]
    }
   ],
   "source": [
    "li1 = [4, 8, 2, 10, 15, 18]\n",
    "li2 = Cloning(li1)\n",
    "print(\"org:\", li1)\n",
    "print(\"clone:\", li2)\n"
   ]
  },
  {
   "cell_type": "markdown",
   "id": "bf31f917",
   "metadata": {},
   "source": [
    "# 11. Write a Python program to Count occurrences of an element in a list?"
   ]
  },
  {
   "cell_type": "code",
   "execution_count": 54,
   "id": "44982934",
   "metadata": {},
   "outputs": [
    {
     "name": "stdout",
     "output_type": "stream",
     "text": [
      "8 has occurred 5 times\n"
     ]
    }
   ],
   "source": [
    "def countX(lst, x):\n",
    "    return lst.count(x)\n"
   ]
  },
  {
   "cell_type": "code",
   "execution_count": 57,
   "id": "16235a3b",
   "metadata": {},
   "outputs": [
    {
     "name": "stdout",
     "output_type": "stream",
     "text": [
      "8 has occurred 5 times\n",
      "6 has occurred 1 times\n",
      "10 has occurred 2 times\n",
      "20 has occurred 1 times\n"
     ]
    }
   ],
   "source": [
    "lst = [8, 6, 8, 10, 8, 20, 10, 8, 8]\n",
    "rep = []\n",
    "for i in lst:\n",
    "    if i not in rep:\n",
    "        print('{} has occurred {} times'.format(i, countX(lst, i)))\n",
    "        rep.append(i)\n",
    "    \n",
    "        "
   ]
  },
  {
   "cell_type": "code",
   "execution_count": null,
   "id": "68339c26",
   "metadata": {},
   "outputs": [],
   "source": []
  }
 ],
 "metadata": {
  "kernelspec": {
   "display_name": "Python 3 (ipykernel)",
   "language": "python",
   "name": "python3"
  },
  "language_info": {
   "codemirror_mode": {
    "name": "ipython",
    "version": 3
   },
   "file_extension": ".py",
   "mimetype": "text/x-python",
   "name": "python",
   "nbconvert_exporter": "python",
   "pygments_lexer": "ipython3",
   "version": "3.10.2"
  }
 },
 "nbformat": 4,
 "nbformat_minor": 5
}
