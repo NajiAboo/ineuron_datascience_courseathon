{
 "cells": [
  {
   "cell_type": "markdown",
   "id": "030160d2",
   "metadata": {},
   "source": [
    "# 1. Write a Python Program to Find LCM?"
   ]
  },
  {
   "cell_type": "code",
   "execution_count": 7,
   "id": "b89324ab",
   "metadata": {},
   "outputs": [],
   "source": [
    "def lcm(x, y):\n",
    "    if x > y:\n",
    "        greater = x\n",
    "    else:\n",
    "        greater = y\n",
    "\n",
    "    while(True):\n",
    "        if((greater % x == 0) and (greater % y == 0)):\n",
    "            lcm = greater\n",
    "            break\n",
    "        greater += 1\n",
    "\n",
    "    return lcm"
   ]
  },
  {
   "cell_type": "code",
   "execution_count": 9,
   "id": "55bf8c02",
   "metadata": {},
   "outputs": [
    {
     "name": "stdout",
     "output_type": "stream",
     "text": [
      "Please enter first number: 6\n",
      "Please enter second number: 12\n",
      "The L.C.M. is 12\n"
     ]
    }
   ],
   "source": [
    "num1 = int(input(\"Please enter first number: \"))\n",
    "num2 = int(input(\"Please enter second number: \"))\n",
    "result = lcm(num1, num2)\n",
    "\n",
    "print(\"The L.C.M. is\", result)"
   ]
  },
  {
   "cell_type": "markdown",
   "id": "7cf425d4",
   "metadata": {},
   "source": [
    "# 2. Write a Python Program to Find HCF?"
   ]
  },
  {
   "cell_type": "code",
   "execution_count": 18,
   "id": "5fdcd09b",
   "metadata": {},
   "outputs": [],
   "source": [
    "def hcf(x, y):\n",
    "    if x > y:\n",
    "        smaller = y\n",
    "    else:\n",
    "        smaller = x\n",
    "    for i in range(1, smaller+1):\n",
    "        if((x % i == 0) and (y % i == 0)):\n",
    "            hcf = i \n",
    "    return hcf\n"
   ]
  },
  {
   "cell_type": "code",
   "execution_count": 19,
   "id": "83502382",
   "metadata": {},
   "outputs": [
    {
     "name": "stdout",
     "output_type": "stream",
     "text": [
      "Please enter first number: 6\n",
      "Please enter second number: 12\n",
      "The H.C.F. is 6\n"
     ]
    }
   ],
   "source": [
    "num1 = int(input(\"Please enter first number: \"))\n",
    "num2 = int(input(\"Please enter second number: \"))\n",
    "result = hcf(num1, num2)\n",
    "\n",
    "print(\"The H.C.F. is\", result)"
   ]
  },
  {
   "cell_type": "markdown",
   "id": "01b0abec",
   "metadata": {},
   "source": [
    "# Write a Python Program to Convert Decimal to Binary, Octal and Hexadecimal?"
   ]
  },
  {
   "cell_type": "code",
   "execution_count": 20,
   "id": "0904c502",
   "metadata": {},
   "outputs": [
    {
     "name": "stdout",
     "output_type": "stream",
     "text": [
      "Please enter the decimal number10\n",
      "The decimal value of 10 is:\n",
      "0b1010 in binary.\n",
      "0o12 in octal.\n",
      "0xa in hexadecimal.\n"
     ]
    }
   ],
   "source": [
    "dec = int(input(\"Please enter the decimal number\"))\n",
    "\n",
    "print(\"The decimal value of\", dec, \"is:\")\n",
    "print(bin(dec), \"in binary.\")\n",
    "print(oct(dec), \"in octal.\")\n",
    "print(hex(dec), \"in hexadecimal.\")"
   ]
  },
  {
   "cell_type": "markdown",
   "id": "4fdb0ab9",
   "metadata": {},
   "source": [
    "# 4. Write a Python Program To Find ASCII value of a character?"
   ]
  },
  {
   "cell_type": "code",
   "execution_count": 29,
   "id": "85cfc25f",
   "metadata": {},
   "outputs": [],
   "source": [
    "c = 'b'\n"
   ]
  },
  {
   "cell_type": "code",
   "execution_count": 30,
   "id": "25709ff2",
   "metadata": {},
   "outputs": [
    {
     "name": "stdout",
     "output_type": "stream",
     "text": [
      "The ASCII value of 'b' is 98\n"
     ]
    }
   ],
   "source": [
    "print(\"The ASCII value of '\" + c + \"' is\", ord(c))"
   ]
  },
  {
   "cell_type": "markdown",
   "id": "7b729fa4",
   "metadata": {},
   "source": [
    "# 4. Write a Python Program to Make a Simple Calculator with 4 basic mathematical operations?"
   ]
  },
  {
   "cell_type": "code",
   "execution_count": 34,
   "id": "79919220",
   "metadata": {},
   "outputs": [],
   "source": [
    "class Calculator:\n",
    "    \n",
    "    def add(self, num1, num2):\n",
    "        return num1 + num2\n",
    "    \n",
    "    def sub(self,num1,num2):\n",
    "        return num1-num2\n",
    "    \n",
    "    def divide(self, num1,num2):\n",
    "        return num1/num2\n",
    "    \n",
    "    def multiplication(self,num1,num2):\n",
    "        return num1*num2"
   ]
  },
  {
   "cell_type": "code",
   "execution_count": 35,
   "id": "0a9edc1a",
   "metadata": {},
   "outputs": [
    {
     "data": {
      "text/plain": [
       "3"
      ]
     },
     "execution_count": 35,
     "metadata": {},
     "output_type": "execute_result"
    }
   ],
   "source": [
    "calc = Calculator()\n",
    "calc.add(1,2)\n"
   ]
  },
  {
   "cell_type": "code",
   "execution_count": null,
   "id": "5896256e",
   "metadata": {},
   "outputs": [],
   "source": [
    "calc.sub"
   ]
  }
 ],
 "metadata": {
  "kernelspec": {
   "display_name": "Python 3 (ipykernel)",
   "language": "python",
   "name": "python3"
  },
  "language_info": {
   "codemirror_mode": {
    "name": "ipython",
    "version": 3
   },
   "file_extension": ".py",
   "mimetype": "text/x-python",
   "name": "python",
   "nbconvert_exporter": "python",
   "pygments_lexer": "ipython3",
   "version": "3.10.2"
  }
 },
 "nbformat": 4,
 "nbformat_minor": 5
}
