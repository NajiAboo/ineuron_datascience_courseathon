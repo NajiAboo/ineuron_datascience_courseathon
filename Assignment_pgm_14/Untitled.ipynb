{
 "cells": [
  {
   "cell_type": "markdown",
   "id": "0e0c60be",
   "metadata": {},
   "source": [
    "# 1. Define a class with a generator which can iterate the numbers, which are divisible by 7, between a given range 0 and n."
   ]
  },
  {
   "cell_type": "code",
   "execution_count": 3,
   "id": "87e07b39",
   "metadata": {},
   "outputs": [],
   "source": [
    "class iterator:\n",
    "    def __init__(self, n):\n",
    "        super(iterator, self).__init__()\n",
    "        self.n = n\n",
    "\n",
    "    def divBySeven(self):\n",
    "        for i in range(0, self.n):\n",
    "            if i % 7 == 0:\n",
    "                yield i"
   ]
  },
  {
   "cell_type": "code",
   "execution_count": 4,
   "id": "bab2e690",
   "metadata": {},
   "outputs": [
    {
     "name": "stdout",
     "output_type": "stream",
     "text": [
      "0\n",
      "7\n",
      "14\n",
      "21\n",
      "28\n",
      "35\n",
      "42\n",
      "49\n",
      "56\n",
      "63\n",
      "70\n",
      "77\n",
      "84\n",
      "91\n",
      "98\n"
     ]
    }
   ],
   "source": [
    "for num in iterator(100).divBySeven():\n",
    "    print(num)"
   ]
  },
  {
   "cell_type": "markdown",
   "id": "f636c7bf",
   "metadata": {},
   "source": [
    "# 2. Write a program to compute the frequency of the words from the input. The output\n",
    "should output after sorting the key alphanumerically.\n",
    "Suppose the following input is supplied to the program:\n",
    "New to Python or choosing between Python 2 and Python 3? Read Python 2 or\n",
    "Python 3.\n",
    "Then, the output should be:\n",
    "\n",
    "2:2\n",
    "3.:1\n",
    "3?:1\n",
    "New:1\n",
    "Python:5\n",
    "Read:1\n",
    "and:1\n",
    "between:1\n",
    "choosing:1\n",
    "or:2\n",
    "to:1"
   ]
  },
  {
   "cell_type": "code",
   "execution_count": 21,
   "id": "89f9ccea",
   "metadata": {},
   "outputs": [
    {
     "name": "stdout",
     "output_type": "stream",
     "text": [
      "Type in: New to Python or choosing between Python 2 and Python 3? Read Python 2 or Python 3.\n",
      "2:2 3.:1 3?:1 New:1 Python:5 Read:1 and:1 between:1 choosing:1 or:2 to:1 "
     ]
    }
   ],
   "source": [
    "import operator\n",
    "\n",
    "text_line = input(\"Type in: \")\n",
    "\n",
    "freq_dict = {}\n",
    "\n",
    "for i in text_line.split(' '):\n",
    "    if True:\n",
    "        if i not in freq_dict:\n",
    "            freq_dict[i] = 1\n",
    "        elif i in freq_dict:\n",
    "            freq_dict[i] = freq_dict[i] + 1\n",
    "    else:\n",
    "        pass\n",
    "\n",
    "\n",
    "sorted_freq_dict = sorted(freq_dict.items(), key = operator.itemgetter(0))\n",
    "#print(sorted_freq_dict)\n",
    "\n",
    "for i in sorted_freq_dict:\n",
    "    print(f\"{i[0]}:{i[1]}\", end=\" \")"
   ]
  },
  {
   "cell_type": "markdown",
   "id": "0159b895",
   "metadata": {},
   "source": [
    "# Question 3:\n",
    "Define a class Person and its two child classes: Male and Female. All classes have a method \"getGender\" which can print \"Male\" for Male class and \"Female\" for Female class."
   ]
  },
  {
   "cell_type": "code",
   "execution_count": 25,
   "id": "a11ff11f",
   "metadata": {},
   "outputs": [],
   "source": [
    "class Person:\n",
    "    def getGender( self ):\n",
    "        pass"
   ]
  },
  {
   "cell_type": "code",
   "execution_count": 23,
   "id": "542cc4dc",
   "metadata": {},
   "outputs": [],
   "source": [
    "class Male( Person ):\n",
    "    def getGender( self ):\n",
    "        return \"Male\"\n"
   ]
  },
  {
   "cell_type": "code",
   "execution_count": 24,
   "id": "e29ab80d",
   "metadata": {},
   "outputs": [],
   "source": [
    "class Female( Person ):\n",
    "    def getGender( self ):\n",
    "        return \"Female\"\n"
   ]
  },
  {
   "cell_type": "code",
   "execution_count": 26,
   "id": "242254f2",
   "metadata": {},
   "outputs": [
    {
     "name": "stdout",
     "output_type": "stream",
     "text": [
      "Male\n",
      "Female\n"
     ]
    }
   ],
   "source": [
    "\n",
    "aMale = Male()\n",
    "aFemale= Female()\n",
    "print(aMale.getGender())\n",
    "print(aFemale.getGender())"
   ]
  },
  {
   "cell_type": "markdown",
   "id": "0f0c3b6a",
   "metadata": {},
   "source": [
    "# Question 4:\n",
    "Please write a program to generate all sentences where subject is in [\"I\", \"You\"] and verb is in [\"Play\", \"Love\"] and the object is in [\"Hockey\",\"Football\"]."
   ]
  },
  {
   "cell_type": "code",
   "execution_count": 28,
   "id": "bf2a629f",
   "metadata": {},
   "outputs": [
    {
     "name": "stdout",
     "output_type": "stream",
     "text": [
      "I Play Hockey\n",
      "I Play Football\n",
      "I Love Hockey\n",
      "I Love Football\n",
      "You Play Hockey\n",
      "You Play Football\n",
      "You Love Hockey\n",
      "You Love Football\n"
     ]
    }
   ],
   "source": [
    "subjects=[\"I\", \"You\"]\n",
    "verbs=[\"Play\", \"Love\"]\n",
    "objects=[\"Hockey\",\"Football\"]\n",
    "\n",
    "for sub in subjects:\n",
    "    for verb in verbs:\n",
    "        for obj in objects:\n",
    "            print(\"{} {} {}\".format(sub,verb,obj))"
   ]
  },
  {
   "cell_type": "markdown",
   "id": "857ca095",
   "metadata": {},
   "source": [
    "# Question 5:\n",
    "Please write a program to compress and decompress the string \"hello world!hello world!hello world!hello world!\".\n"
   ]
  },
  {
   "cell_type": "code",
   "execution_count": 29,
   "id": "d5e3438e",
   "metadata": {},
   "outputs": [
    {
     "name": "stdout",
     "output_type": "stream",
     "text": [
      "b'x\\x9c\\xcbH\\xcd\\xc9\\xc9W(\\xcf/\\xcaIQ\\xcc \\x82\\r\\x00\\xbd[\\x11\\xf5'\n",
      "b'hello world!hello world!hello world!hello world!'\n"
     ]
    }
   ],
   "source": [
    "import zlib\n",
    "s = \"hello world!hello world!hello world!hello world!\".encode()\n",
    "t = zlib.compress(s)\n",
    "print(t)\n",
    "print(zlib.decompress(t))"
   ]
  },
  {
   "cell_type": "markdown",
   "id": "38542220",
   "metadata": {},
   "source": [
    "# Question 6:\n",
    "Please write a binary search function which searches an item in a sorted list. The function should return the index of element to be searched in the list."
   ]
  },
  {
   "cell_type": "code",
   "execution_count": 34,
   "id": "90cc66d1",
   "metadata": {},
   "outputs": [
    {
     "name": "stdout",
     "output_type": "stream",
     "text": [
      "4\n"
     ]
    }
   ],
   "source": [
    "def binary_search(lst, item):\n",
    "    low = 0\n",
    "    high = len(lst) - 1\n",
    "    \n",
    "    while low <= high:\n",
    "        mid = round((low + high) / 2)\n",
    "        \n",
    "        if lst[mid] == item:\n",
    "            return mid\n",
    "        elif lst[mid] > item:\n",
    "            high = mid - 1\n",
    "        else:\n",
    "            low = mid + 1\n",
    "    return None\n",
    "    \n",
    " "
   ]
  },
  {
   "cell_type": "code",
   "execution_count": 35,
   "id": "41626640",
   "metadata": {},
   "outputs": [
    {
     "name": "stdout",
     "output_type": "stream",
     "text": [
      "4\n"
     ]
    }
   ],
   "source": [
    "lst = [1,3,5,7,10,25]\n",
    "print(binary_search(lst, 10))  "
   ]
  },
  {
   "cell_type": "code",
   "execution_count": null,
   "id": "f6654fd2",
   "metadata": {},
   "outputs": [],
   "source": []
  }
 ],
 "metadata": {
  "kernelspec": {
   "display_name": "Python 3 (ipykernel)",
   "language": "python",
   "name": "python3"
  },
  "language_info": {
   "codemirror_mode": {
    "name": "ipython",
    "version": 3
   },
   "file_extension": ".py",
   "mimetype": "text/x-python",
   "name": "python",
   "nbconvert_exporter": "python",
   "pygments_lexer": "ipython3",
   "version": "3.10.2"
  }
 },
 "nbformat": 4,
 "nbformat_minor": 5
}
