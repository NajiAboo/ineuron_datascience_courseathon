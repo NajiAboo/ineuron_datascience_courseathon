{
 "cells": [
  {
   "cell_type": "markdown",
   "id": "b6e498c3",
   "metadata": {},
   "source": [
    "# Write a Python Program to Check if a Number is Positive, Negative or Zero?"
   ]
  },
  {
   "cell_type": "code",
   "execution_count": 3,
   "id": "20d04cc6",
   "metadata": {},
   "outputs": [
    {
     "name": "stdout",
     "output_type": "stream",
     "text": [
      "Enter a number0\n",
      "0 is zero\n"
     ]
    }
   ],
   "source": [
    "num = int(input(\"Enter a number\"))\n",
    "\n",
    "if num > 0 :\n",
    "    print(f\"{num} is positive number\")\n",
    "elif num < 0:\n",
    "    print(f\"{num} is  a negative number\")\n",
    "else:\n",
    "    print(f\"{num} is zero\")"
   ]
  },
  {
   "cell_type": "markdown",
   "id": "a6bdc367",
   "metadata": {},
   "source": [
    "# Write a Python Program to Check if a Number is Odd or Even?"
   ]
  },
  {
   "cell_type": "code",
   "execution_count": 5,
   "id": "a38542ff",
   "metadata": {},
   "outputs": [
    {
     "name": "stdout",
     "output_type": "stream",
     "text": [
      "Enter the number11\n",
      "11 is odd\n"
     ]
    }
   ],
   "source": [
    "num = int(input(\"Enter the number\"))\n",
    "\n",
    "if num % 2 == 0:\n",
    "    print(f\"{num} is even\")\n",
    "else:\n",
    "    print(f\"{num} is odd\")"
   ]
  },
  {
   "cell_type": "markdown",
   "id": "e4d239a3",
   "metadata": {},
   "source": [
    "# Write a Python Program to Check Leap Year?"
   ]
  },
  {
   "cell_type": "code",
   "execution_count": 11,
   "id": "eb0523b4",
   "metadata": {},
   "outputs": [
    {
     "name": "stdout",
     "output_type": "stream",
     "text": [
      "Enter the year2028\n",
      " 2028 is a leap yaer\n"
     ]
    }
   ],
   "source": [
    "\n",
    "year = int(input(\"Enter the year\"))\n",
    "\n",
    "if (year % 400 == 0) and (year % 100 == 0):\n",
    "    print(f\" { year} is a Leap year\")\n",
    "elif (year % 4 ==0) and (year % 100 != 0):\n",
    "    print(f\" { year} is a leap yaer\")\n",
    "else:\n",
    "    print(f\"{year} not a leap year\")"
   ]
  },
  {
   "cell_type": "markdown",
   "id": "9aaec348",
   "metadata": {},
   "source": [
    "# Write a Python Program to Check Prime Number?"
   ]
  },
  {
   "cell_type": "code",
   "execution_count": 31,
   "id": "026806a8",
   "metadata": {},
   "outputs": [
    {
     "name": "stdout",
     "output_type": "stream",
     "text": [
      "Please enter the number596\n",
      "596 is not a prime number\n"
     ]
    }
   ],
   "source": [
    "def prime_number(num):\n",
    "    is_prime = True\n",
    "    \n",
    "    if num == 0 or num == 1:\n",
    "        is_prime = False\n",
    "    else:\n",
    "          \n",
    "        for r in range(2, num):\n",
    "            if num % r == 0:\n",
    "                is_prime = False            \n",
    "    return is_prime\n",
    "\n",
    "num = int(input(\"Please enter the number\"))\n",
    "\n",
    "is_prime = prime_number(num)\n",
    "\n",
    "if is_prime == True:\n",
    "    print(f\"{num} is a Prime Number\")\n",
    "else:\n",
    "    print(f\"{num} is not a prime number\")\n",
    "        \n",
    "    \n",
    "                   \n",
    "                   \n",
    "                   \n",
    "        "
   ]
  },
  {
   "cell_type": "markdown",
   "id": "9b7ac010",
   "metadata": {},
   "source": [
    "# Write a Python Program to Print all Prime Numbers in an Interval of 1-10000?"
   ]
  },
  {
   "cell_type": "code",
   "execution_count": 32,
   "id": "fb23ed92",
   "metadata": {},
   "outputs": [],
   "source": [
    "def prime_number(num):\n",
    "    is_prime = True\n",
    "    \n",
    "    if num == 0 or num == 1:\n",
    "        is_prime = False\n",
    "    else:\n",
    "          \n",
    "        for r in range(2, num):\n",
    "            if num % r == 0:\n",
    "                is_prime = False            \n",
    "    return is_prime"
   ]
  },
  {
   "cell_type": "code",
   "execution_count": null,
   "id": "14882489",
   "metadata": {},
   "outputs": [],
   "source": [
    "for i n range(1, 10000):\n",
    "    \n",
    "    is_prime "
   ]
  }
 ],
 "metadata": {
  "kernelspec": {
   "display_name": "Python 3 (ipykernel)",
   "language": "python",
   "name": "python3"
  },
  "language_info": {
   "codemirror_mode": {
    "name": "ipython",
    "version": 3
   },
   "file_extension": ".py",
   "mimetype": "text/x-python",
   "name": "python",
   "nbconvert_exporter": "python",
   "pygments_lexer": "ipython3",
   "version": "3.9.7"
  }
 },
 "nbformat": 4,
 "nbformat_minor": 5
}
