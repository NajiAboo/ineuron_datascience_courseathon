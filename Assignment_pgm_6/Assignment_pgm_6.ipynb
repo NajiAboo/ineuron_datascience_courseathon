{
 "cells": [
  {
   "cell_type": "markdown",
   "id": "995b2b51",
   "metadata": {},
   "source": [
    "# 1. Write a Python Program to Display Fibonacci Sequence Using Recursion?"
   ]
  },
  {
   "cell_type": "code",
   "execution_count": 3,
   "id": "1405b98a",
   "metadata": {},
   "outputs": [],
   "source": [
    "def fib(n):\n",
    "    if n <= 1:\n",
    "        return n\n",
    "    else:\n",
    "        return(fib(n-1) + fib(n-2))\n",
    "\n"
   ]
  },
  {
   "cell_type": "code",
   "execution_count": 13,
   "id": "1bf6cf59",
   "metadata": {},
   "outputs": [
    {
     "name": "stdout",
     "output_type": "stream",
     "text": [
      "please enter the terms11\n",
      "Fibonacci sequence:\n",
      "0\n",
      "1\n",
      "1\n",
      "2\n",
      "3\n",
      "5\n",
      "8\n",
      "13\n",
      "21\n",
      "34\n",
      "55\n"
     ]
    }
   ],
   "source": [
    "num = int(input(\"please enter the terms\"))\n",
    "if num <= 0:\n",
    "    print(\"Plese enter a positive integer\")\n",
    "else:\n",
    "    print(\"Fibonacci sequence:\")\n",
    "    for i in range(num):\n",
    "        print(fib(i))"
   ]
  },
  {
   "cell_type": "markdown",
   "id": "852f1026",
   "metadata": {},
   "source": [
    "# 2. Write a Python Program to Find Factorial of Number Using Recursion?"
   ]
  },
  {
   "cell_type": "code",
   "execution_count": 15,
   "id": "d39ddb8c",
   "metadata": {},
   "outputs": [],
   "source": [
    "def recur(n):\n",
    "    if n == 1:\n",
    "        return n\n",
    "    else:\n",
    "        return n*recur(n-1)\n"
   ]
  },
  {
   "cell_type": "code",
   "execution_count": 18,
   "id": "6ee01df8",
   "metadata": {},
   "outputs": [
    {
     "name": "stdout",
     "output_type": "stream",
     "text": [
      "please enter the number3\n",
      "The factorial of 3 is 6\n"
     ]
    }
   ],
   "source": [
    "\n",
    "num = int(input(\"please enter the number\"))\n",
    "\n",
    "if num < 0:\n",
    "    print(\"please enter a positive number\")\n",
    "elif num == 0:\n",
    "    print(\"The factorial of 0 is 1\")\n",
    "else:\n",
    "    print(\"The factorial of\", num, \"is\", recur(num))"
   ]
  },
  {
   "cell_type": "markdown",
   "id": "67be943d",
   "metadata": {},
   "source": [
    "# 3. Write a Python Program to calculate your Body Mass Index?"
   ]
  },
  {
   "cell_type": "code",
   "execution_count": 21,
   "id": "30bead1f",
   "metadata": {},
   "outputs": [],
   "source": [
    "def calculate_body_mass_index(height, weight):\n",
    "    return round(weight / (height * height), 2)"
   ]
  },
  {
   "cell_type": "code",
   "execution_count": 22,
   "id": "1fc998ac",
   "metadata": {},
   "outputs": [
    {
     "name": "stdout",
     "output_type": "stream",
     "text": [
      "Input your height in Feet: 5.2\n",
      "Input your weight in Kilogram: 69.8\n",
      "Your body mass index is:  2.58\n"
     ]
    }
   ],
   "source": [
    "height = float(input(\"Input your height in Feet: \"))\n",
    "weight = float(input(\"Input your weight in Kilogram: \"))\n",
    "\n",
    "result = calculate_body_mass_index(height, weight)\n",
    "\n",
    "print(\"Your body mass index is: \", result)"
   ]
  },
  {
   "cell_type": "markdown",
   "id": "c2863e49",
   "metadata": {},
   "source": [
    "# 4,Write a Python Program to calculate the natural logarithm of any number?"
   ]
  },
  {
   "cell_type": "code",
   "execution_count": 28,
   "id": "a045bc54",
   "metadata": {},
   "outputs": [
    {
     "name": "stdout",
     "output_type": "stream",
     "text": [
      "please enter the number: 10\n",
      "2.302585092994046\n"
     ]
    }
   ],
   "source": [
    "import math\n",
    "num = float(input(\"please enter the number: \"))\n",
    "print ( math.log(num))\n",
    "\n"
   ]
  },
  {
   "cell_type": "markdown",
   "id": "38f222d6",
   "metadata": {},
   "source": [
    "# 5.Write a Python Program for cube sum of first n natural numbers?"
   ]
  },
  {
   "cell_type": "code",
   "execution_count": 30,
   "id": "35702721",
   "metadata": {},
   "outputs": [],
   "source": [
    "def firstn_natural(n):\n",
    "    sum = 0\n",
    "    for i in range(1, n+1):\n",
    "        sum +=i*i*i\n",
    "          \n",
    "    return sum"
   ]
  },
  {
   "cell_type": "code",
   "execution_count": 36,
   "id": "a249ff92",
   "metadata": {},
   "outputs": [
    {
     "name": "stdout",
     "output_type": "stream",
     "text": [
      "Please enter the number7\n",
      "sum : 784\n"
     ]
    }
   ],
   "source": [
    "num = int(input(\"Please enter the number\"))\n",
    "sum = firstn_natural(num)\n",
    "print(f\"sum : {sum}\")"
   ]
  },
  {
   "cell_type": "code",
   "execution_count": null,
   "id": "13dec1b4",
   "metadata": {},
   "outputs": [],
   "source": []
  }
 ],
 "metadata": {
  "kernelspec": {
   "display_name": "Python 3 (ipykernel)",
   "language": "python",
   "name": "python3"
  },
  "language_info": {
   "codemirror_mode": {
    "name": "ipython",
    "version": 3
   },
   "file_extension": ".py",
   "mimetype": "text/x-python",
   "name": "python",
   "nbconvert_exporter": "python",
   "pygments_lexer": "ipython3",
   "version": "3.10.2"
  }
 },
 "nbformat": 4,
 "nbformat_minor": 5
}
