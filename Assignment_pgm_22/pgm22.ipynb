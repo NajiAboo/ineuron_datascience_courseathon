{
 "cells": [
  {
   "cell_type": "markdown",
   "id": "fccb60c9",
   "metadata": {},
   "source": [
    "# Question1\n",
    "Create a function that takes three parameters where:\n",
    "x is the start of the range (inclusive).\n",
    "y is the end of the range (inclusive).\n",
    "n is the divisor to be checked against.\n",
    "Return an ordered list with numbers in the range that are divisible by the third parameter n. Return an empty list if there are no numbers that are divisible by n."
   ]
  },
  {
   "cell_type": "code",
   "execution_count": 1,
   "id": "68be985f",
   "metadata": {},
   "outputs": [],
   "source": [
    "def list_operation(x,y,n):\n",
    "    l = [i for i in range(x,y+1) if i%n==0]\n",
    "    return l\n",
    "        "
   ]
  },
  {
   "cell_type": "code",
   "execution_count": 2,
   "id": "1e750d0f",
   "metadata": {},
   "outputs": [
    {
     "data": {
      "text/plain": [
       "[3, 6, 9]"
      ]
     },
     "execution_count": 2,
     "metadata": {},
     "output_type": "execute_result"
    }
   ],
   "source": [
    "list_operation(1, 10, 3)"
   ]
  },
  {
   "cell_type": "code",
   "execution_count": 3,
   "id": "30d9340f",
   "metadata": {},
   "outputs": [
    {
     "data": {
      "text/plain": [
       "[8]"
      ]
     },
     "execution_count": 3,
     "metadata": {},
     "output_type": "execute_result"
    }
   ],
   "source": [
    "list_operation(7, 9, 2) "
   ]
  },
  {
   "cell_type": "code",
   "execution_count": 4,
   "id": "51968832",
   "metadata": {},
   "outputs": [
    {
     "data": {
      "text/plain": [
       "[]"
      ]
     },
     "execution_count": 4,
     "metadata": {},
     "output_type": "execute_result"
    }
   ],
   "source": [
    "list_operation(15, 20, 7) "
   ]
  },
  {
   "cell_type": "markdown",
   "id": "7e3221df",
   "metadata": {},
   "source": [
    "# Question2\n",
    "Create a function that takes in two lists and returns True if the second list follows the first list by one element, and False otherwise. In other words, determine if the second list is the first list shifted to the right by 1."
   ]
  },
  {
   "cell_type": "code",
   "execution_count": 24,
   "id": "fc9bacf4",
   "metadata": {},
   "outputs": [],
   "source": [
    "def simon_says(list1, list2):\n",
    "    result = False\n",
    "    if len(list1) == len(list2):\n",
    "        if list1[0] == list2[1]:\n",
    "            return True\n",
    "        else:\n",
    "            return False        "
   ]
  },
  {
   "cell_type": "code",
   "execution_count": 25,
   "id": "e588d184",
   "metadata": {},
   "outputs": [
    {
     "data": {
      "text/plain": [
       "True"
      ]
     },
     "execution_count": 25,
     "metadata": {},
     "output_type": "execute_result"
    }
   ],
   "source": [
    "simon_says([1, 2], [5, 1]) "
   ]
  },
  {
   "cell_type": "code",
   "execution_count": 26,
   "id": "2d450567",
   "metadata": {},
   "outputs": [
    {
     "data": {
      "text/plain": [
       "False"
      ]
     },
     "execution_count": 26,
     "metadata": {},
     "output_type": "execute_result"
    }
   ],
   "source": [
    "simon_says([1, 2], [5, 5])"
   ]
  },
  {
   "cell_type": "code",
   "execution_count": 27,
   "id": "e9a76757",
   "metadata": {},
   "outputs": [
    {
     "data": {
      "text/plain": [
       "True"
      ]
     },
     "execution_count": 27,
     "metadata": {},
     "output_type": "execute_result"
    }
   ],
   "source": [
    "simon_says([1, 2, 3, 4, 5], [0, 1, 2, 3, 4])"
   ]
  },
  {
   "cell_type": "code",
   "execution_count": 28,
   "id": "0a946194",
   "metadata": {},
   "outputs": [
    {
     "data": {
      "text/plain": [
       "False"
      ]
     },
     "execution_count": 28,
     "metadata": {},
     "output_type": "execute_result"
    }
   ],
   "source": [
    "\n",
    "simon_says([1, 2, 3, 4, 5], [5, 5, 1, 2, 3]) \n"
   ]
  },
  {
   "cell_type": "markdown",
   "id": "2efaceed",
   "metadata": {},
   "source": [
    "# Question3\n",
    "A group of friends have decided to start a secret society. The name will be the first letter of each of their names, sorted in alphabetical order.\n",
    "Create a function that takes in a list of names and returns the name of the secret society.\n"
   ]
  },
  {
   "cell_type": "code",
   "execution_count": 35,
   "id": "7c9c8721",
   "metadata": {},
   "outputs": [],
   "source": [
    "def society_name(l1):\n",
    "    l = []\n",
    "    for i in l1:        \n",
    "        l.append(i[0])\n",
    "    l2 = sorted(l)\n",
    "    return ''.join(l2)"
   ]
  },
  {
   "cell_type": "code",
   "execution_count": 36,
   "id": "c53ffe1c",
   "metadata": {},
   "outputs": [
    {
     "data": {
      "text/plain": [
       "'AMS'"
      ]
     },
     "execution_count": 36,
     "metadata": {},
     "output_type": "execute_result"
    }
   ],
   "source": [
    "society_name([\"Adam\", \"Sarah\", \"Malcolm\"]) "
   ]
  },
  {
   "cell_type": "code",
   "execution_count": 37,
   "id": "3edd6ed9",
   "metadata": {},
   "outputs": [
    {
     "data": {
      "text/plain": [
       "'CHLN'"
      ]
     },
     "execution_count": 37,
     "metadata": {},
     "output_type": "execute_result"
    }
   ],
   "source": [
    "society_name([\"Harry\", \"Newt\", \"Luna\", \"Cho\"]) "
   ]
  },
  {
   "cell_type": "code",
   "execution_count": 38,
   "id": "85d336f8",
   "metadata": {},
   "outputs": [
    {
     "data": {
      "text/plain": [
       "'CJMPRR'"
      ]
     },
     "execution_count": 38,
     "metadata": {},
     "output_type": "execute_result"
    }
   ],
   "source": [
    "society_name([\"Phoebe\", \"Chandler\", \"Rachel\", \"Ross\", \"Monica\", \"Joey\"])"
   ]
  },
  {
   "cell_type": "markdown",
   "id": "03815ba4",
   "metadata": {},
   "source": [
    "# Question4\n",
    "An isogram is a word that has no duplicate letters. Create a function that takes a string and returns either True or False depending on whether or not it's an \"isogram\"."
   ]
  },
  {
   "cell_type": "code",
   "execution_count": 39,
   "id": "0af09f64",
   "metadata": {},
   "outputs": [],
   "source": [
    " def is_isogram(word):\n",
    "    clean_word = word.lower()\n",
    "    letter_list = []\n",
    "    for letter in clean_word:\n",
    "        if letter.isalpha():\n",
    "            if letter in letter_list:\n",
    "                return False\n",
    "            letter_list.append(letter)\n",
    "\n",
    "    return True"
   ]
  },
  {
   "cell_type": "code",
   "execution_count": 40,
   "id": "cf2b5e32",
   "metadata": {},
   "outputs": [
    {
     "data": {
      "text/plain": [
       "True"
      ]
     },
     "execution_count": 40,
     "metadata": {},
     "output_type": "execute_result"
    }
   ],
   "source": [
    "is_isogram(\"Algorism\") "
   ]
  },
  {
   "cell_type": "code",
   "execution_count": 41,
   "id": "0a4b3f8b",
   "metadata": {},
   "outputs": [
    {
     "data": {
      "text/plain": [
       "False"
      ]
     },
     "execution_count": 41,
     "metadata": {},
     "output_type": "execute_result"
    }
   ],
   "source": [
    "is_isogram(\"PasSword\")"
   ]
  },
  {
   "cell_type": "code",
   "execution_count": 42,
   "id": "ff6294f4",
   "metadata": {},
   "outputs": [
    {
     "data": {
      "text/plain": [
       "False"
      ]
     },
     "execution_count": 42,
     "metadata": {},
     "output_type": "execute_result"
    }
   ],
   "source": [
    "is_isogram(\"Consecutive\") "
   ]
  },
  {
   "cell_type": "markdown",
   "id": "7c806b6d",
   "metadata": {},
   "source": [
    "# Question5\n",
    "Create a function that takes a string and returns True or False, depending on whether the characters are in order or not."
   ]
  },
  {
   "cell_type": "code",
   "execution_count": 54,
   "id": "1e15ac04",
   "metadata": {},
   "outputs": [],
   "source": [
    "def is_in_order(string):\n",
    "    \n",
    "    s_sorted = sorted(string)\n",
    "    s_sorted = ''.join(s_sorted)\n",
    "    if s_sorted == string:\n",
    "       \n",
    "        return True\n",
    "    else:\n",
    "        return False"
   ]
  },
  {
   "cell_type": "code",
   "execution_count": 55,
   "id": "f4649a29",
   "metadata": {},
   "outputs": [
    {
     "data": {
      "text/plain": [
       "True"
      ]
     },
     "execution_count": 55,
     "metadata": {},
     "output_type": "execute_result"
    }
   ],
   "source": [
    "is_in_order(\"abc\")"
   ]
  },
  {
   "cell_type": "code",
   "execution_count": 56,
   "id": "57290db9",
   "metadata": {},
   "outputs": [
    {
     "data": {
      "text/plain": [
       "False"
      ]
     },
     "execution_count": 56,
     "metadata": {},
     "output_type": "execute_result"
    }
   ],
   "source": [
    "is_in_order(\"edabit\") "
   ]
  },
  {
   "cell_type": "code",
   "execution_count": null,
   "id": "a77b2ec6",
   "metadata": {},
   "outputs": [],
   "source": []
  }
 ],
 "metadata": {
  "kernelspec": {
   "display_name": "Python 3 (ipykernel)",
   "language": "python",
   "name": "python3"
  },
  "language_info": {
   "codemirror_mode": {
    "name": "ipython",
    "version": 3
   },
   "file_extension": ".py",
   "mimetype": "text/x-python",
   "name": "python",
   "nbconvert_exporter": "python",
   "pygments_lexer": "ipython3",
   "version": "3.10.2"
  }
 },
 "nbformat": 4,
 "nbformat_minor": 5
}
