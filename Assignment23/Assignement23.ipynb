{
 "cells": [
  {
   "cell_type": "markdown",
   "id": "a3cfa5c6",
   "metadata": {},
   "source": [
    "# 1. What is the result of the code, and why?"
   ]
  },
  {
   "cell_type": "code",
   "execution_count": 1,
   "id": "e32f5528",
   "metadata": {},
   "outputs": [],
   "source": [
    "def func(a, b=6, c=8):\n",
    "    print(a, b, c)"
   ]
  },
  {
   "cell_type": "code",
   "execution_count": 2,
   "id": "c9bdd1ff",
   "metadata": {},
   "outputs": [
    {
     "name": "stdout",
     "output_type": "stream",
     "text": [
      "1 2 8\n"
     ]
    }
   ],
   "source": [
    "func(1, 2)"
   ]
  },
  {
   "cell_type": "code",
   "execution_count": 3,
   "id": "9c0d278b",
   "metadata": {},
   "outputs": [],
   "source": [
    "#for c value we are not passing the value, so it takes 8 as default \n",
    "# for a and b we are passing values"
   ]
  },
  {
   "cell_type": "markdown",
   "id": "c0c43786",
   "metadata": {},
   "source": [
    "# 2.What is the result of this code, and why?"
   ]
  },
  {
   "cell_type": "code",
   "execution_count": 4,
   "id": "50fcf762",
   "metadata": {},
   "outputs": [],
   "source": [
    "def func(a, b, c=5):\n",
    "    print(a, b, c)"
   ]
  },
  {
   "cell_type": "code",
   "execution_count": 5,
   "id": "d4adc776",
   "metadata": {},
   "outputs": [
    {
     "name": "stdout",
     "output_type": "stream",
     "text": [
      "1 2 3\n"
     ]
    }
   ],
   "source": [
    "func(1, c=3, b=2)"
   ]
  },
  {
   "cell_type": "code",
   "execution_count": 6,
   "id": "344ab906",
   "metadata": {},
   "outputs": [],
   "source": [
    "# here we are giving both a, b and c parameters, so its pring values like that"
   ]
  },
  {
   "cell_type": "markdown",
   "id": "d7da7dbb",
   "metadata": {},
   "source": [
    "# 3. How about this code: what is its result, and why?"
   ]
  },
  {
   "cell_type": "code",
   "execution_count": 7,
   "id": "005def5f",
   "metadata": {},
   "outputs": [],
   "source": [
    "def func(a, *pargs):\n",
    "    print(a, pargs)\n",
    "    "
   ]
  },
  {
   "cell_type": "code",
   "execution_count": 8,
   "id": "cf275edc",
   "metadata": {},
   "outputs": [
    {
     "name": "stdout",
     "output_type": "stream",
     "text": [
      "1 (2, 3)\n"
     ]
    }
   ],
   "source": [
    "func(1, 2, 3)"
   ]
  },
  {
   "cell_type": "code",
   "execution_count": 9,
   "id": "40fdb8d1",
   "metadata": {},
   "outputs": [],
   "source": [
    "# Here *pargs accept any number of parameters.  So first value (1) will assign to a and rest of the values will \n",
    "# assign to pargs"
   ]
  },
  {
   "cell_type": "markdown",
   "id": "a2ccd409",
   "metadata": {},
   "source": [
    "# 4. What does this code print, and why?"
   ]
  },
  {
   "cell_type": "code",
   "execution_count": 10,
   "id": "cb9132f2",
   "metadata": {},
   "outputs": [],
   "source": [
    "\n",
    "def func(a, **kargs):\n",
    "    print(a, kargs)"
   ]
  },
  {
   "cell_type": "code",
   "execution_count": 11,
   "id": "0132b417",
   "metadata": {},
   "outputs": [
    {
     "name": "stdout",
     "output_type": "stream",
     "text": [
      "1 {'c': 3, 'b': 2}\n"
     ]
    }
   ],
   "source": [
    "func(a=1, c=3, b=2)"
   ]
  },
  {
   "cell_type": "code",
   "execution_count": 12,
   "id": "6ccc7c0e",
   "metadata": {},
   "outputs": [],
   "source": [
    "# here **kargs accept any number of key value pair, When we call the func, 1 will be assigned to a and \n",
    "# rest of the values will assign to kargs as keyvalu pair"
   ]
  },
  {
   "cell_type": "markdown",
   "id": "a245507b",
   "metadata": {},
   "source": [
    "# 5. What gets printed by this, and explain?"
   ]
  },
  {
   "cell_type": "code",
   "execution_count": 13,
   "id": "6d7207f4",
   "metadata": {},
   "outputs": [],
   "source": [
    "def func(a, b, c=8, d=5): print(a, b, c, d)"
   ]
  },
  {
   "cell_type": "code",
   "execution_count": 14,
   "id": "23becdf2",
   "metadata": {},
   "outputs": [
    {
     "name": "stdout",
     "output_type": "stream",
     "text": [
      "1 5 6 5\n"
     ]
    }
   ],
   "source": [
    " func(1, *(5, 6))"
   ]
  },
  {
   "cell_type": "code",
   "execution_count": 16,
   "id": "ad68ffab",
   "metadata": {},
   "outputs": [],
   "source": [
    "# ''*' is the unpacking operator and are operators that unpack the values from iterable objects in Python. \n",
    "# so it will assing to a,b,c and default value assign to d"
   ]
  },
  {
   "cell_type": "markdown",
   "id": "8800edb9",
   "metadata": {},
   "source": [
    "# 6. what is the result of this, and explain?"
   ]
  },
  {
   "cell_type": "code",
   "execution_count": 17,
   "id": "15df54fc",
   "metadata": {},
   "outputs": [],
   "source": [
    "def func(a, b, c): a = 2; b[0] = 'x'; c['a'] = 'y'"
   ]
  },
  {
   "cell_type": "code",
   "execution_count": 18,
   "id": "f4683b36",
   "metadata": {},
   "outputs": [],
   "source": [
    "l=1; m=[1]; n={'a':0}"
   ]
  },
  {
   "cell_type": "code",
   "execution_count": 19,
   "id": "63662256",
   "metadata": {},
   "outputs": [],
   "source": [
    "func(l, m, n)"
   ]
  },
  {
   "cell_type": "code",
   "execution_count": 20,
   "id": "db5ff092",
   "metadata": {},
   "outputs": [
    {
     "data": {
      "text/plain": [
       "(1, ['x'], {'a': 'y'})"
      ]
     },
     "execution_count": 20,
     "metadata": {},
     "output_type": "execute_result"
    }
   ],
   "source": [
    "l, m, n"
   ]
  },
  {
   "cell_type": "code",
   "execution_count": 21,
   "id": "666155c4",
   "metadata": {},
   "outputs": [],
   "source": [
    "# The list and dict are passed as argument, and those are mutable. Here the list l and parameter b point \n",
    "#to the same list in the memory location where as dict n and c point to the same memory location. Any updates to this \n",
    "#list will update in the memory location"
   ]
  },
  {
   "cell_type": "code",
   "execution_count": null,
   "id": "970981d2",
   "metadata": {},
   "outputs": [],
   "source": []
  }
 ],
 "metadata": {
  "kernelspec": {
   "display_name": "Python 3 (ipykernel)",
   "language": "python",
   "name": "python3"
  },
  "language_info": {
   "codemirror_mode": {
    "name": "ipython",
    "version": 3
   },
   "file_extension": ".py",
   "mimetype": "text/x-python",
   "name": "python",
   "nbconvert_exporter": "python",
   "pygments_lexer": "ipython3",
   "version": "3.10.2"
  }
 },
 "nbformat": 4,
 "nbformat_minor": 5
}
