{
 "cells": [
  {
   "cell_type": "markdown",
   "id": "5ae35faf",
   "metadata": {},
   "source": [
    "# Write a Python program to print &quot;Hello Python&quot;?"
   ]
  },
  {
   "cell_type": "code",
   "execution_count": 1,
   "id": "25330d04",
   "metadata": {},
   "outputs": [
    {
     "name": "stdout",
     "output_type": "stream",
     "text": [
      "Hello Python\n"
     ]
    }
   ],
   "source": [
    "print(\"Hello Python\")"
   ]
  },
  {
   "cell_type": "markdown",
   "id": "ac618361",
   "metadata": {},
   "source": [
    "# Write a Python program to do arithmetical operations addition and division.?"
   ]
  },
  {
   "cell_type": "code",
   "execution_count": 2,
   "id": "7ceb8de8",
   "metadata": {},
   "outputs": [],
   "source": [
    "num1 = 10\n",
    "num2 = 2"
   ]
  },
  {
   "cell_type": "code",
   "execution_count": 3,
   "id": "265476cb",
   "metadata": {},
   "outputs": [
    {
     "data": {
      "text/plain": [
       "12"
      ]
     },
     "execution_count": 3,
     "metadata": {},
     "output_type": "execute_result"
    }
   ],
   "source": [
    "#addotion\n",
    "num1 + num2"
   ]
  },
  {
   "cell_type": "code",
   "execution_count": 4,
   "id": "d7461e26",
   "metadata": {},
   "outputs": [
    {
     "data": {
      "text/plain": [
       "5.0"
      ]
     },
     "execution_count": 4,
     "metadata": {},
     "output_type": "execute_result"
    }
   ],
   "source": [
    "num1 / num2"
   ]
  },
  {
   "cell_type": "markdown",
   "id": "9174f72d",
   "metadata": {},
   "source": [
    "# Write a Python program to find the area of a triangle?"
   ]
  },
  {
   "cell_type": "code",
   "execution_count": 5,
   "id": "9845d376",
   "metadata": {},
   "outputs": [],
   "source": [
    "#area of a triangle"
   ]
  },
  {
   "cell_type": "code",
   "execution_count": 7,
   "id": "52ec6006",
   "metadata": {},
   "outputs": [
    {
     "name": "stdout",
     "output_type": "stream",
     "text": [
      "1st side4\n",
      "2nd Side5\n",
      "3rd side6\n",
      "9.921567416492215\n"
     ]
    }
   ],
   "source": [
    "first = float(input('1st side'))  \n",
    "second = float(input('2nd Side'))  \n",
    "third = float(input('3rd side'))  \n",
    "s = (first + second + third) / 2  \n",
    "triangle_area = (s*(s-first)*(s-second)*(s-third)) ** 0.5  \n",
    "print(triangle_area)"
   ]
  },
  {
   "cell_type": "markdown",
   "id": "fcac3d36",
   "metadata": {},
   "source": [
    "# Write a Python program to swap two variables?"
   ]
  },
  {
   "cell_type": "code",
   "execution_count": 10,
   "id": "17633c1f",
   "metadata": {},
   "outputs": [
    {
     "name": "stdout",
     "output_type": "stream",
     "text": [
      "Enter first variable : 34\n",
      "Enter second variable: 12\n",
      " num1 : 12,  num2: 34\n"
     ]
    }
   ],
   "source": [
    "def swap(num1, num2):\n",
    "    num3 = num1\n",
    "    num1 = num2\n",
    "    num2 = num3\n",
    "    \n",
    "    return num1, num2\n",
    "\n",
    "\n",
    "num1 = input(\"Enter first variable : \")\n",
    "num2 = input(\"Enter second variable: \")\n",
    "\n",
    "num1, num2 = swap(num1, num2)\n",
    "\n",
    "print(f\" num1 : {num1},  num2: {num2}\")"
   ]
  },
  {
   "cell_type": "markdown",
   "id": "928b6b47",
   "metadata": {},
   "source": [
    "# Write a Python program to generate a random number?"
   ]
  },
  {
   "cell_type": "code",
   "execution_count": 12,
   "id": "dd1a89e9",
   "metadata": {},
   "outputs": [
    {
     "name": "stdout",
     "output_type": "stream",
     "text": [
      "0.3062072711576761\n"
     ]
    }
   ],
   "source": [
    "import random\n",
    "print(random.random())"
   ]
  },
  {
   "cell_type": "code",
   "execution_count": null,
   "id": "61ebfd68",
   "metadata": {},
   "outputs": [],
   "source": []
  }
 ],
 "metadata": {
  "kernelspec": {
   "display_name": "Python 3 (ipykernel)",
   "language": "python",
   "name": "python3"
  },
  "language_info": {
   "codemirror_mode": {
    "name": "ipython",
    "version": 3
   },
   "file_extension": ".py",
   "mimetype": "text/x-python",
   "name": "python",
   "nbconvert_exporter": "python",
   "pygments_lexer": "ipython3",
   "version": "3.9.7"
  }
 },
 "nbformat": 4,
 "nbformat_minor": 5
}
