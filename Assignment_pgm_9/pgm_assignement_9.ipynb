{
 "cells": [
  {
   "cell_type": "markdown",
   "id": "3a025bcc",
   "metadata": {},
   "source": [
    "# 1. Write a Python program to check if the given number is a Disarium Number?"
   ]
  },
  {
   "cell_type": "code",
   "execution_count": 2,
   "id": "14e5b71c",
   "metadata": {},
   "outputs": [],
   "source": [
    "import math\n",
    " \n",
    "def check(n) :\n",
    " \n",
    "    count_digits = len(str(n))\n",
    "    sum = 0 \n",
    "    x = n\n",
    "    while (x!=0) :\n",
    "        r = x % 10\n",
    "        sum = (int) (sum + math.pow(r, count_digits))\n",
    "        count_digits = count_digits - 1\n",
    "        x = x//10\n",
    "    if sum == n :\n",
    "        return 1\n",
    "    else :\n",
    "        return 0\n"
   ]
  },
  {
   "cell_type": "code",
   "execution_count": 5,
   "id": "ba69ffd0",
   "metadata": {},
   "outputs": [
    {
     "name": "stdout",
     "output_type": "stream",
     "text": [
      "Enter the number153\n",
      "Not a Disarium Number\n"
     ]
    }
   ],
   "source": [
    "number = int(input(\"Enter the number\"))\n",
    "if (check(number) == 1) :\n",
    "    print (\"Disarium Number\")\n",
    "else :\n",
    "    print (\"Not a Disarium Number\")"
   ]
  },
  {
   "cell_type": "markdown",
   "id": "05b3307a",
   "metadata": {},
   "source": [
    "# 2. Write a Python program to print all disarium numbers between 1 to 100?"
   ]
  },
  {
   "cell_type": "code",
   "execution_count": 6,
   "id": "c558e5fd",
   "metadata": {},
   "outputs": [],
   "source": [
    "import math\n",
    " \n",
    "def check(n) :\n",
    " \n",
    "    count_digits = len(str(n))\n",
    "    sum = 0 \n",
    "    x = n\n",
    "    while (x!=0) :\n",
    "        r = x % 10\n",
    "        sum = (int) (sum + math.pow(r, count_digits))\n",
    "        count_digits = count_digits - 1\n",
    "        x = x//10\n",
    "    if sum == n :\n",
    "        return 1\n",
    "    else :\n",
    "        return 0\n"
   ]
  },
  {
   "cell_type": "code",
   "execution_count": 7,
   "id": "4bda60b2",
   "metadata": {},
   "outputs": [
    {
     "name": "stdout",
     "output_type": "stream",
     "text": [
      "0  is a disarium number\n",
      "1  is a disarium number\n",
      "2  is a disarium number\n",
      "3  is a disarium number\n",
      "4  is a disarium number\n",
      "5  is a disarium number\n",
      "6  is a disarium number\n",
      "7  is a disarium number\n",
      "8  is a disarium number\n",
      "9  is a disarium number\n",
      "89  is a disarium number\n"
     ]
    }
   ],
   "source": [
    "for i in range(101):\n",
    "    if (check(i)==1):\n",
    "        print(f\"{i}  is a disarium number\")"
   ]
  },
  {
   "cell_type": "markdown",
   "id": "c9110e0e",
   "metadata": {},
   "source": [
    "# 3. Write a Python program to check if the given number is Happy Number?"
   ]
  },
  {
   "cell_type": "code",
   "execution_count": 23,
   "id": "13592d64",
   "metadata": {},
   "outputs": [
    {
     "name": "stdout",
     "output_type": "stream",
     "text": [
      "7\n",
      "49\n",
      "97\n",
      "130\n",
      "10\n",
      "1\n",
      "happy number\n"
     ]
    }
   ],
   "source": [
    "def isHappy(n):    \n",
    "    r = s = 0;    \n",
    "    while(n > 0):    \n",
    "        r = n%10    \n",
    "        s += r**2  \n",
    "        n //= 10    \n",
    "    return s  \n",
    "        \n",
    "n = int(input())    \n",
    "res = n    \n",
    "     \n",
    "while(res != 1 and res != 4 and res!=0):    \n",
    "    res = isHappy(res)    \n",
    "    #print(res)\n",
    "     \n",
    "if(res == 1):    \n",
    "    print(\"happy number\")\n",
    "elif(res == 4 ):    \n",
    "    print(\"not a happy number\") \n",
    "elif(res == 0):\n",
    "    print(\"not a happy number\")"
   ]
  },
  {
   "cell_type": "markdown",
   "id": "448d9c90",
   "metadata": {},
   "source": [
    "# 4. Write a Python program to print all happy numbers between 1 and 100?"
   ]
  },
  {
   "cell_type": "code",
   "execution_count": 25,
   "id": "88535af4",
   "metadata": {},
   "outputs": [],
   "source": [
    "def isHappy(n):    \n",
    "    r = s = 0;    \n",
    "    while(n > 0):    \n",
    "        r = n%10    \n",
    "        s += r**2  \n",
    "        n //= 10    \n",
    "    return s  \n",
    " \n",
    "\n"
   ]
  },
  {
   "cell_type": "code",
   "execution_count": 27,
   "id": "f94442c0",
   "metadata": {},
   "outputs": [
    {
     "name": "stdout",
     "output_type": "stream",
     "text": [
      "1\n",
      "7\n",
      "10\n",
      "13\n",
      "19\n",
      "23\n",
      "28\n",
      "31\n",
      "32\n",
      "44\n",
      "49\n",
      "68\n",
      "70\n",
      "79\n",
      "82\n",
      "86\n",
      "91\n",
      "94\n",
      "97\n",
      "100\n"
     ]
    }
   ],
   "source": [
    "for i in range(101):\n",
    "    res = i\n",
    "    while(res != 1 and res != 4 and res!=0):\n",
    "        res = isHappy(res)  \n",
    "        #print(res)\n",
    "    if(res == 1):\n",
    "        print(i)"
   ]
  },
  {
   "cell_type": "markdown",
   "id": "cad3512e",
   "metadata": {},
   "source": [
    "# 5. Write a Python program to determine whether the given number is a Harshad Number?"
   ]
  },
  {
   "cell_type": "code",
   "execution_count": 32,
   "id": "ae6702f3",
   "metadata": {},
   "outputs": [
    {
     "name": "stdout",
     "output_type": "stream",
     "text": [
      "Enter number: 101\n",
      "101 is Not Harshad Number\n"
     ]
    }
   ],
   "source": [
    "number = int(input('Enter number: '))\n",
    "copy = number\n",
    "digit_sum = 0\n",
    "\n",
    "while number:\n",
    "    digit_sum += number%10\n",
    "    number //= 10\n",
    "\n",
    "if copy%digit_sum == 0:\n",
    "    print('%d is Harshad Number' % (copy))\n",
    "else:\n",
    "    print('%d is Not Harshad Number' % (copy))"
   ]
  },
  {
   "cell_type": "markdown",
   "id": "9a186007",
   "metadata": {},
   "source": [
    "# 6. Write a Python program to print all pronic numbers between 1 and 100?"
   ]
  },
  {
   "cell_type": "code",
   "execution_count": 33,
   "id": "24831b31",
   "metadata": {},
   "outputs": [
    {
     "name": "stdout",
     "output_type": "stream",
     "text": [
      "Pronic numbers between 1 and 100: \n",
      "2\n",
      " \n",
      "6\n",
      " \n",
      "12\n",
      " \n",
      "20\n",
      " \n",
      "30\n",
      " \n",
      "42\n",
      " \n",
      "56\n",
      " \n",
      "72\n",
      " \n",
      "90\n",
      " \n"
     ]
    }
   ],
   "source": [
    "def isPronicNumber(num):    \n",
    "    flag = False;    \n",
    "    for j in range(1, num+1):    \n",
    "        if((j*(j+1)) == num):    \n",
    "            flag = True;    \n",
    "            break;    \n",
    "    return flag;    \n",
    "   \n",
    "for i in range(1, 101):    \n",
    "    if(isPronicNumber(i)):    \n",
    "        print(i),    \n",
    "        "
   ]
  },
  {
   "cell_type": "code",
   "execution_count": null,
   "id": "01081a1c",
   "metadata": {},
   "outputs": [],
   "source": []
  }
 ],
 "metadata": {
  "kernelspec": {
   "display_name": "Python 3 (ipykernel)",
   "language": "python",
   "name": "python3"
  },
  "language_info": {
   "codemirror_mode": {
    "name": "ipython",
    "version": 3
   },
   "file_extension": ".py",
   "mimetype": "text/x-python",
   "name": "python",
   "nbconvert_exporter": "python",
   "pygments_lexer": "ipython3",
   "version": "3.10.2"
  }
 },
 "nbformat": 4,
 "nbformat_minor": 5
}
